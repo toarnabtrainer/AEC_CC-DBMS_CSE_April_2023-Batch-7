{
 "cells": [
  {
   "cell_type": "markdown",
   "id": "d7961856-1ff0-42f4-893a-d93351564faa",
   "metadata": {},
   "source": [
    "## **Dynamic Programming**"
   ]
  },
  {
   "cell_type": "markdown",
   "id": "7c3c073f-bed7-4931-8429-f93e6e94acb0",
   "metadata": {},
   "source": [
    "> Dynamic Programming is a technique that combines the correctness of complete search and also finds the efficiency of Greedy algorithms. Dynamic Programming can be applied if the problem can be divided into overlapping subproblems that can be solved independently.\n",
    "\n",
    "> There are two uses of Dynamic Programming\n",
    "* **Finding an Optimal solution -** We want to find the solution that is as large as possible or as small as possible.\n",
    "* **Counting the number of solutions -**  We want to find to calculate the total number of possible and feasible solutions."
   ]
  },
  {
   "cell_type": "code",
   "execution_count": 2,
   "id": "d9fd71d7-3cd6-4a0a-9c3e-ef36bda84bab",
   "metadata": {},
   "outputs": [
    {
     "name": "stdout",
     "output_type": "stream",
     "text": [
      "3\n",
      "13\n"
     ]
    }
   ],
   "source": [
    "#      Index numbers ->  0   1   2   3   4   5   6   7   8   9  10 ...\n",
    "#   Fibonacci Series ->  0   1   1   2   3   5   8  13  21  34  55 ...\n",
    "# recursion calls stacks to hold the return addresses, enhancing both time complexities (exponential) and space (extra\n",
    "# space to hold the stack contents space, i.e. O(n)) complexities\n",
    "# find the n-th term of the Fibonacci series\n",
    "def fibonacciRecursive(n):\n",
    "    if (n == 0 or n == 1):\n",
    "        return n\n",
    "    ans = fibonacciRecursive(n - 1) + fibonacciRecursive(n - 2)\n",
    "    return ans\n",
    "\n",
    "print (fibonacciRecursive(4))\n",
    "print (fibonacciRecursive(7))"
   ]
  },
  {
   "cell_type": "code",
   "execution_count": 4,
   "id": "1ad1866e-759e-4992-8530-b96273caaee8",
   "metadata": {},
   "outputs": [
    {
     "name": "stdin",
     "output_type": "stream",
     "text": [
      "Please enter the place number:  5\n"
     ]
    },
    {
     "name": "stdout",
     "output_type": "stream",
     "text": [
      "5\n",
      "[0, 0, 1, 2, 3, 5]\n"
     ]
    }
   ],
   "source": [
    "#      Index numbers ->  0   1   2   3   4   5   6   7   8   9  10 ...\n",
    "#   Fibonacci Series ->  0   1   1   2   3   5   8  13  21  34  55 ...\n",
    "# implementing fibonacci problem in top-down DP approach\n",
    "# find the n-th term of the Fibonacci series\n",
    "def fibonacciDPTopDown(n, dp):\n",
    "    if (n == 0 or n == 1):\n",
    "        return n\n",
    "    if (dp[n] != 0): return dp[n]\n",
    "    dp[n] = fibonacciDPTopDown(n - 1, dp) + fibonacciDPTopDown(n - 2, dp)\n",
    "    return dp[n]\n",
    "\n",
    "n = int(input(\"Please enter the place number: \"))\n",
    "dp = [0 for i in range(n + 1)]\n",
    "print (fibonacciDPTopDown(n, dp))\n",
    "print (dp)"
   ]
  },
  {
   "cell_type": "code",
   "execution_count": null,
   "id": "f29eae1d-b6f5-46ba-b154-bfffecb3127e",
   "metadata": {},
   "outputs": [],
   "source": [
    "# C++ Implementation\n",
    "// Kushagr Jaiswal\n",
    "#include <iostream>\n",
    "#include <vector>\n",
    "\n",
    "int fib(std::vector<int>& f, int n)\n",
    "{\n",
    "    if (f[n] != -1)\n",
    "    {\n",
    "        return f[n];\n",
    "    }\n",
    "\n",
    "    else if ((n == 0) || (n == 1))\n",
    "    {\n",
    "        f[n] = n;\n",
    "        return n;\n",
    "    }\n",
    "\n",
    "    else\n",
    "    {\n",
    "        f[n] = (f[n - 2] + f[n - 1]);\n",
    "        return f[n];\n",
    "    }\n",
    "}\n",
    "\n",
    "int main()\n",
    "{\n",
    "    int n;\n",
    "    std::cout << \"Enter the number of terms: \";\n",
    "    std::cin >> n;\n",
    "\n",
    "    std::vector<int> f(n, -1);\n",
    "\n",
    "    for (int i = 0; i < n; ++i)\n",
    "        std::cout << fib(f, i) << ' ';\n",
    "    std::cout << '\\n';\n",
    "}"
   ]
  },
  {
   "cell_type": "code",
   "execution_count": null,
   "id": "a531df9b-6b28-4a5c-93c1-d504cf3854e8",
   "metadata": {},
   "outputs": [],
   "source": [
    "# Java implementation\n",
    "//Rahul Mishra\n",
    "import java.util.Arrays;\n",
    "class Fibonacci {\n",
    "    static int fibonacciDPTopDown(int n, int[] dp) {\n",
    "        if (n == 0 || n == 1) {\n",
    "            return n;\n",
    "        }\n",
    "        \n",
    "        if (dp[n] != 0) {\n",
    "            return dp[n];\n",
    "        }\n",
    "        \n",
    "        dp[n] = fibonacciDPTopDown(n - 1, dp) + fibonacciDPTopDown(n - 2, dp);\n",
    "        return dp[n];\n",
    "    }\n",
    "\n",
    "    public static void main(String[] args) {\n",
    "        java.util.Scanner scanner = new java.util.Scanner(System.in);\n",
    "        System.out.print(\"Please enter the place number: \");\n",
    "        int n = scanner.nextInt();\n",
    "        \n",
    "        int[] dp = new int[n + 1];\n",
    "        Arrays.fill(dp, 0);\n",
    "        \n",
    "        int result = fibonacciDPTopDown(n, dp);\n",
    "        System.out.println(result);\n",
    "        System.out.println(Arrays.toString(dp));\n",
    "        \n",
    "        scanner.close();\n",
    "    }\n",
    "}"
   ]
  },
  {
   "cell_type": "code",
   "execution_count": 6,
   "id": "2a1541d2-3f77-4cf1-bb58-88846c1d25e9",
   "metadata": {},
   "outputs": [
    {
     "name": "stdin",
     "output_type": "stream",
     "text": [
      "Please enter the place number:  5\n"
     ]
    },
    {
     "name": "stdout",
     "output_type": "stream",
     "text": [
      "5\n"
     ]
    }
   ],
   "source": [
    "#      Index numbers ->  0   1   2   3   4   5   6   7   8   9  10 ...\n",
    "#   Fibonacci Series ->  0   1   1   2   3   5   8  13  21  34  55 ...\n",
    "# implementing fibonacci problem in bottom-up DP approach\n",
    "# time complexity O(n) and space complexity O(1)\n",
    "# find the n-th term of the Fibonacci series\n",
    "def fibonacciDPBottomUpSpaceOptimized(n):\n",
    "    if (n == 0 or n == 1):\n",
    "        return n\n",
    "    f1 = 0; f2 = 1\n",
    "    for i in range(2, n + 1):\n",
    "        f3 = f1 + f2\n",
    "        f1 = f2\n",
    "        f2 = f3\n",
    "    return f3\n",
    "\n",
    "n = int(input(\"Please enter the place number: \"))\n",
    "print (fibonacciDPBottomUpSpaceOptimized(n))"
   ]
  },
  {
   "cell_type": "code",
   "execution_count": null,
   "id": "81b4c18b-91df-4bbc-9e74-78e106332b73",
   "metadata": {},
   "outputs": [],
   "source": [
    "#      Index numbers ->  0   1   2   3   4   5   6   7   8   9  10 ...\n",
    "#   Fibonacci Series ->  0   1   1   2   3   5   8  13  21  34  55 ...\n",
    "# implementing fibonacci problem in bottom-up DP approach\n",
    "# time complexity O(n) and space complexity O(n)\n",
    "# find the n-th term of the Fibonacci series"
   ]
  },
  {
   "cell_type": "code",
   "execution_count": null,
   "id": "158401a8-ec43-44d0-9db2-f4b4884add55",
   "metadata": {},
   "outputs": [],
   "source": [
    "Leetcode: 509. Fibonacci Number (https://leetcode.com/problems/fibonacci-number/)\n",
    "\n",
    "The Fibonacci numbers, commonly denoted F(n) form a sequence, called the Fibonacci sequence, such that each number \n",
    "is the sum of the two preceding ones, starting from 0 and 1. That is,\n",
    "\n",
    "F(0) = 0, F(1) = 1\n",
    "F(n) = F(n - 1) + F(n - 2), for n > 1.\n",
    "Given n, calculate F(n).\n",
    "\n",
    "Example 1:\n",
    "Input: n = 2\n",
    "Output: 1\n",
    "Explanation: F(2) = F(1) + F(0) = 1 + 0 = 1.\n",
    "\n",
    "Example 2:\n",
    "Input: n = 3\n",
    "Output: 2\n",
    "Explanation: F(3) = F(2) + F(1) = 1 + 1 = 2.\n",
    "\n",
    "Example 3:\n",
    "Input: n = 4\n",
    "Output: 3\n",
    "Explanation: F(4) = F(3) + F(2) = 2 + 1 = 3.\n",
    "\n",
    "Constraints:\n",
    "0 <= n <= 30"
   ]
  },
  {
   "cell_type": "code",
   "execution_count": 8,
   "id": "c3ee838f-cfe0-46c0-b9a1-151ece181576",
   "metadata": {},
   "outputs": [
    {
     "name": "stdout",
     "output_type": "stream",
     "text": [
      "5\n"
     ]
    }
   ],
   "source": [
    "class Solution(object):\n",
    "    def fib(self, n):\n",
    "        \"\"\"\n",
    "        :type n: int\n",
    "        :rtype: int\n",
    "        \"\"\"\n",
    "        if (n == 0 or n == 1):\n",
    "            return n\n",
    "        f1 = 0; f2 = 1\n",
    "        for i in range(2, n + 1):\n",
    "            f3 = f1 + f2\n",
    "            f1 = f2\n",
    "            f2 = f3\n",
    "        return f3\n",
    "    \n",
    "print (Solution().fib(5))"
   ]
  },
  {
   "cell_type": "code",
   "execution_count": null,
   "id": "bbcecf3e-a00d-4e8c-a3eb-77d10a99ee5f",
   "metadata": {},
   "outputs": [],
   "source": [
    "# C++ Implementation\n",
    "\n",
    "// Kushagr Jaiswal\n",
    "class Solution {\n",
    "    public:\n",
    "\n",
    "    int fib(int n) {\n",
    "        if ((n == 0) || (n == 1))\n",
    "            return n;\n",
    "\n",
    "        int a = 0, b = 1;\n",
    "        int c;\n",
    "\n",
    "        for (int i = 0; i < (n - 1); ++i) {\n",
    "            c = (a + b);\n",
    "            a = b;\n",
    "            b = c;\n",
    "        }\n",
    "\n",
    "        return c;\n",
    "    }\n",
    "};"
   ]
  },
  {
   "cell_type": "code",
   "execution_count": null,
   "id": "269cea05-d3cc-4d3b-b68e-c3851b87d886",
   "metadata": {},
   "outputs": [],
   "source": [
    "# Java Implementation\n",
    "//java \n",
    "class Solution {\n",
    "    public int fib(int n) {\n",
    "   \n",
    "    if (n == 0 || n ==1) {\n",
    "        return n;\n",
    "    }  \n",
    "    \n",
    "    int fib0 = 0, fib1 = 1;\n",
    "    for (int i = 2; i <= n; i++) {\n",
    "        int fibn = fib1 + fib0;\n",
    "        fib0 = fib1;\n",
    "        fib1 = fibn;\n",
    "    }\n",
    "    \n",
    "    return fib1;\n",
    "    }\n",
    "}"
   ]
  },
  {
   "cell_type": "code",
   "execution_count": null,
   "id": "d922d49b-756b-46b4-8207-c12174a30a5a",
   "metadata": {},
   "outputs": [],
   "source": [
    "LeetCode: 300. Longest Increasing Subsequence (https://leetcode.com/problems/longest-increasing-subsequence/)\n",
    "\n",
    "Given an integer array nums, return the length of the longest strictly increasing subsequence.\n",
    "\n",
    "Example 1:\n",
    "Input: nums = [10,9,2,5,3,7,101,18]\n",
    "Output: 4\n",
    "Explanation: The longest increasing subsequence is [2,3,7,101], therefore the length is 4.\n",
    "\n",
    "Example 2:\n",
    "Input: nums = [0,1,0,3,2,3]\n",
    "Output: 4\n",
    "\n",
    "Example 3:\n",
    "Input: nums = [7,7,7,7,7,7,7]\n",
    "Output: 1\n",
    "\n",
    "Constraints:\n",
    "1 <= nums.length <= 2500\n",
    "-10^4 <= nums[i] <= 10^4\n",
    "\n",
    "Follow up: Can you come up with an algorithm that runs in O(n log(n)) time complexity?"
   ]
  },
  {
   "cell_type": "code",
   "execution_count": 10,
   "id": "ac526b18-ea19-4325-ba47-2b095cc00bf2",
   "metadata": {},
   "outputs": [
    {
     "name": "stdout",
     "output_type": "stream",
     "text": [
      "[1, 1, 1, 1, 1, 1, 1, 1]\n",
      "[1, 1, 1, 1, 1, 1, 1, 1]\n",
      "[1, 1, 1, 2, 1, 1, 1, 1]\n",
      "[1, 1, 1, 2, 2, 1, 1, 1]\n",
      "[1, 1, 1, 2, 2, 3, 1, 1]\n",
      "[1, 1, 1, 2, 2, 3, 4, 1]\n",
      "[1, 1, 1, 2, 2, 3, 4, 4]\n",
      "4\n",
      "[1, 2, 1, 1, 1, 1, 1, 1, 1, 1]\n",
      "[1, 2, 1, 1, 1, 1, 1, 1, 1, 1]\n",
      "[1, 2, 1, 3, 1, 1, 1, 1, 1, 1]\n",
      "[1, 2, 1, 3, 2, 1, 1, 1, 1, 1]\n",
      "[1, 2, 1, 3, 2, 4, 1, 1, 1, 1]\n",
      "[1, 2, 1, 3, 2, 4, 4, 1, 1, 1]\n",
      "[1, 2, 1, 3, 2, 4, 4, 5, 1, 1]\n",
      "[1, 2, 1, 3, 2, 4, 4, 5, 6, 1]\n",
      "[1, 2, 1, 3, 2, 4, 4, 5, 6, 1]\n",
      "6\n"
     ]
    }
   ],
   "source": [
    "class Solution(object):\n",
    "    def lengthOfLIS(self, nums):\n",
    "        \"\"\"\n",
    "        :type nums: List[int]\n",
    "        :rtype: int\n",
    "        \"\"\"\n",
    "        n = len(nums)\n",
    "        if (n <= 1): return n\n",
    "        dp = [1 for i in range(n)]\n",
    "        for i in range(1, n):\n",
    "            for j in range(i):\n",
    "                if (nums[j] < nums[i]):\n",
    "                    curr_len = dp[j] + 1\n",
    "                    dp[i] = max(curr_len, dp[i])\n",
    "            print (dp)\n",
    "        return max(dp)\n",
    "            \n",
    "print (Solution().lengthOfLIS([10,9,2,5,3,7,101,18]))  # 4\n",
    "print (Solution().lengthOfLIS([10,22,9,33,21,50,41,60,80,6]))  # 6"
   ]
  },
  {
   "cell_type": "code",
   "execution_count": null,
   "id": "db26ab91-ed84-466e-8d21-3db8b904fe80",
   "metadata": {},
   "outputs": [],
   "source": [
    "# C++ Implementation\n",
    "// Kushagr Jaiswal\n",
    "class Solution {\n",
    "    public:\n",
    "    int lengthOfLIS(vector<int>& nums) {\n",
    "        std::vector<int> lis(nums.size(), 1);\n",
    "\n",
    "        for (int i = 1; i < nums.size(); ++i) {\n",
    "            for (int j = 0; j < i; ++j) {\n",
    "                if (nums[j] < nums[i])\n",
    "                    if ((lis[j] + 1) > lis[i])\n",
    "                        lis[i] = (lis[j] + 1);\n",
    "            }\n",
    "        }\n",
    "\n",
    "        return *(max_element(lis.begin(), lis.end()));\n",
    "    }\n",
    "};"
   ]
  },
  {
   "cell_type": "code",
   "execution_count": null,
   "id": "0f1aea31-4ce3-4598-8cff-e8d299af8bbe",
   "metadata": {},
   "outputs": [],
   "source": [
    "# Java Implementation\n",
    "class Solution {\n",
    "    public int lengthOfLIS(int[] nums) {\n",
    "        int dp[][]=new int[nums.length][nums.length+1];\n",
    "        for(int row[]: dp)\n",
    "    Arrays.fill(row,-1);\n",
    "        return call(-1,0,nums,dp);\n",
    "        \n",
    "\n",
    "    }\n",
    "    int call(int i,int a,int[] arr,int dp[][]){\n",
    "        if(a==arr.length){\n",
    "            return 0;\n",
    "        }\n",
    "        if(dp[a][i+1]!=-1){\n",
    "            return dp[a][i+1];\n",
    "        }\n",
    "\n",
    "        int not= 0+ call(i,a+1,arr,dp);\n",
    "        \n",
    "        if(i==-1 || arr[a]>arr[i]){\n",
    "           not=Math.max(not,1+call(a,a+1,arr,dp));\n",
    "        }\n",
    "        return dp[a][i+1]=not;\n",
    "    }\n",
    "}"
   ]
  },
  {
   "cell_type": "code",
   "execution_count": null,
   "id": "1d8caa55-0adb-45db-afde-7cce7384fa0b",
   "metadata": {},
   "outputs": [],
   "source": [
    "LeetCode: 1143. Longest Common Subsequence (https://leetcode.com/problems/longest-common-subsequence/)\n",
    "\n",
    "Given two strings text1 and text2, return the length of their longest common subsequence.\n",
    "If there is no common subsequence, return 0.\n",
    "\n",
    "A subsequence of a string is a new string generated from the original string with some characters (can be none) \n",
    "deleted without changing the relative order of the remaining characters.\n",
    "\n",
    "For example, \"ace\" is a subsequence of \"abcde\".\n",
    "A common subsequence of two strings is a subsequence that is common to both strings.\n",
    "\n",
    "Example 1:\n",
    "Input: text1 = \"abcde\", text2 = \"ace\" \n",
    "Output: 3  \n",
    "Explanation: The longest common subsequence is \"ace\" and its length is 3.\n",
    "\n",
    "Example 2:\n",
    "Input: text1 = \"abc\", text2 = \"abc\"\n",
    "Output: 3\n",
    "Explanation: The longest common subsequence is \"abc\" and its length is 3.\n",
    "\n",
    "Example 3:\n",
    "Input: text1 = \"abc\", text2 = \"def\"\n",
    "Output: 0\n",
    "Explanation: There is no such common subsequence, so the result is 0.\n",
    "\n",
    "Constraints:\n",
    "1 <= text1.length, text2.length <= 1000\n",
    "text1 and text2 consist of only lowercase English characters."
   ]
  },
  {
   "cell_type": "code",
   "execution_count": 12,
   "id": "feb3134c-f038-4aef-a8f7-2d9983c83656",
   "metadata": {},
   "outputs": [
    {
     "name": "stdout",
     "output_type": "stream",
     "text": [
      "[0, 0, 0, 0, 0, 0, 0]\n",
      "[0, 0, 1, 1, 1, 1, 1]\n",
      "[0, 0, 1, 1, 1, 1, 1]\n",
      "[0, 0, 1, 1, 2, 2, 2]\n",
      "[0, 0, 1, 1, 2, 2, 2]\n",
      "[0, 0, 1, 1, 2, 2, 2]\n",
      "[0, 1, 1, 1, 2, 3, 3]\n",
      "[0, 1, 1, 1, 2, 3, 4]\n",
      "4\n"
     ]
    }
   ],
   "source": [
    "class Solution(object):\n",
    "    def longestCommonSubsequence(self, text1, text2):\n",
    "        \"\"\"\n",
    "        :type text1: str\n",
    "        :type text2: str\n",
    "        :rtype: int\n",
    "        \"\"\"\n",
    "        len1 = len(text1)\n",
    "        len2 = len(text2)\n",
    "        dp = [[0 for j in range(len2 + 1)] for i in range(len1 + 1)]\n",
    "        for i in range(len1 + 1): dp[i][0] = 0\n",
    "        for j in range(len2 + 1): dp[0][j] = 0\n",
    "        for i in range(1, len1 + 1):\n",
    "            for j in range(1, len2 + 1):\n",
    "                if (text1[i - 1] == text2[j - 1]):\n",
    "                    dp[i][j] = dp[i - 1][j - 1] + 1\n",
    "                else:\n",
    "                    dp[i][j] = max(dp[i - 1][j], dp[i][j - 1])\n",
    "        for i in range(len(dp)):\n",
    "            print (dp[i])\n",
    "        return dp[xlen][ylen2]\n",
    "    \n",
    "print (Solution().longestCommonSubsequence(\"GXTXTAB\", \"AGGTAB\"))"
   ]
  },
  {
   "cell_type": "code",
   "execution_count": null,
   "id": "fd744831-dba6-4afa-8e5c-11a580a4b985",
   "metadata": {},
   "outputs": [],
   "source": []
  },
  {
   "cell_type": "code",
   "execution_count": null,
   "id": "d942f0b6-4be2-47a4-8609-bdafc21de8ca",
   "metadata": {},
   "outputs": [],
   "source": []
  },
  {
   "cell_type": "code",
   "execution_count": null,
   "id": "1b34e178-7e5f-417a-aa40-c33ab193053f",
   "metadata": {},
   "outputs": [],
   "source": []
  },
  {
   "cell_type": "code",
   "execution_count": null,
   "id": "b6802ed9-5aed-4efe-8a23-242f4b8641cf",
   "metadata": {},
   "outputs": [],
   "source": []
  },
  {
   "cell_type": "code",
   "execution_count": null,
   "id": "dacf4dc6-68c1-439f-8b4b-cf48a76f60f3",
   "metadata": {},
   "outputs": [],
   "source": []
  },
  {
   "cell_type": "code",
   "execution_count": null,
   "id": "2a3076f3-555c-404b-ad9f-2ca50a8b00eb",
   "metadata": {},
   "outputs": [],
   "source": []
  },
  {
   "cell_type": "code",
   "execution_count": null,
   "id": "78bbf600-5883-4bc6-b60c-4b5ef7136572",
   "metadata": {},
   "outputs": [],
   "source": []
  },
  {
   "cell_type": "code",
   "execution_count": null,
   "id": "5d125725-fc45-423f-9f46-f1fee49bf1e3",
   "metadata": {},
   "outputs": [],
   "source": []
  },
  {
   "cell_type": "code",
   "execution_count": null,
   "id": "e97530c2-7ca8-421f-8243-6d736a192de1",
   "metadata": {},
   "outputs": [],
   "source": []
  },
  {
   "cell_type": "code",
   "execution_count": null,
   "id": "950e5f54-9a7f-461d-b7de-0e37d987068e",
   "metadata": {},
   "outputs": [],
   "source": []
  },
  {
   "cell_type": "code",
   "execution_count": null,
   "id": "a8f9cfd6-7b3a-41ae-9119-c9dfd73046f2",
   "metadata": {},
   "outputs": [],
   "source": []
  },
  {
   "cell_type": "code",
   "execution_count": null,
   "id": "85312120-7576-4687-bdc7-971e851524b5",
   "metadata": {},
   "outputs": [],
   "source": []
  },
  {
   "cell_type": "code",
   "execution_count": null,
   "id": "f6042b3d-fcac-42bf-a542-40a067c70fe7",
   "metadata": {},
   "outputs": [],
   "source": []
  }
 ],
 "metadata": {
  "kernelspec": {
   "display_name": "Python 3",
   "language": "python",
   "name": "python3"
  },
  "language_info": {
   "codemirror_mode": {
    "name": "ipython",
    "version": 3
   },
   "file_extension": ".py",
   "mimetype": "text/x-python",
   "name": "python",
   "nbconvert_exporter": "python",
   "pygments_lexer": "ipython3",
   "version": "3.8.8"
  }
 },
 "nbformat": 4,
 "nbformat_minor": 5
}
