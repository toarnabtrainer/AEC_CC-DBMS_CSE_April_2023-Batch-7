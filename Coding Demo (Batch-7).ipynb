{
 "cells": [
  {
   "cell_type": "code",
   "execution_count": null,
   "id": "5af65a11-3535-4b2f-87ae-8b813bd16621",
   "metadata": {},
   "outputs": [],
   "source": [
    "Find out all possible 3-digit Triode Numbers. Let x be a Triode number, than x, 2x and 3x will have all distinct digits.\n",
    "As example -\n",
    "  x = 219\n",
    "2*x = 438\n",
    "3*x = 657\n",
    "So 219 is one of the Triode Numbers.\n",
    "\n",
    "Do it in any programming language."
   ]
  },
  {
   "cell_type": "code",
   "execution_count": null,
   "id": "b9c3723a-3d8e-4444-aff6-7597f6ab20e8",
   "metadata": {},
   "outputs": [],
   "source": [
    "for x in range(102, 498):\n",
    "    digits = [0 for i in range(10)]\n",
    "    flag = 1\n",
    "    for i in range(1, 4):\n",
    "        num = i * x\n",
    "        while (num != 0):\n",
    "            last_digit = num % 10\n",
    "            if (digits[last_digit] != 0):\n",
    "                flag = 0\n",
    "                break\n",
    "            else:\n",
    "                digits[last_digit] = 1\n",
    "                num = num // 10\n",
    "        if (flag == 0): break\n",
    "    if (flag == 1): print (x, 2 *x , 3 * x)\n",
    "print (\"End of the program...\")"
   ]
  },
  {
   "cell_type": "code",
   "execution_count": null,
   "id": "9611746c-de41-4089-9bf3-e380fbd2749f",
   "metadata": {},
   "outputs": [],
   "source": [
    "# C++ Implementation\n",
    "#include <iostream>\n",
    "#include <vector>\n",
    "int main() {\n",
    "    std::cout << \"Triode Numbers :-\\n\";\n",
    "\n",
    "    for (int i = 102; i <= 498; ++i) {\n",
    "        bool is_triode = true;\n",
    "        std::vector<bool> digit_is_present(10, false);\n",
    "        for (int j = i; j <= (3 * i); j += i) {\n",
    "            int x = j;\n",
    "            while (x > 0) {\n",
    "                if (digit_is_present[x % 10]) {\n",
    "                    is_triode = false;\n",
    "                    goto end_of_current_iteration;\n",
    "                }\n",
    "                digit_is_present[x % 10] = true;\n",
    "                x /= 10;\n",
    "            }\n",
    "        }\n",
    "        if (is_triode)\n",
    "            std::cout << i << '\\n';\n",
    "        end_of_current_iteration: ;\n",
    "    }\n",
    "    return 0;\n",
    "}"
   ]
  },
  {
   "cell_type": "code",
   "execution_count": null,
   "id": "ec1cab2b-af86-4e59-91e6-a7b171ae2d2b",
   "metadata": {},
   "outputs": [],
   "source": [
    "Programming Assignment - 1 (10 Minutes)\n",
    "Print the following pattern for user given ODD value for n.\n",
    "For n = 11\n",
    "\n",
    "***********\n",
    ".*********\n",
    "..*******\n",
    "...*****\n",
    "....***\n",
    ".....*\n",
    "....***\n",
    "...*****\n",
    "..*******\n",
    ".*********\n",
    "***********"
   ]
  },
  {
   "cell_type": "code",
   "execution_count": null,
   "id": "1d936c96-e18b-4545-85f4-844b1c162cb6",
   "metadata": {},
   "outputs": [],
   "source": [
    "# C++ Implementations\n",
    "#include <iostream>\n",
    "#include <algorithm>\n",
    "int main() {\n",
    "    int n;\n",
    "    std::cout << \"Enter an odd positive integer: \";\n",
    "    std::cin >> n;\n",
    "    for (int i = 0; i < n; ++i) {\n",
    "        for (int j = 0; j < n; ++j) {\n",
    "            int min_i = std::min(i, (n - i - 1));\n",
    "\n",
    "            if ((j >= min_i) && (j < (n - min_i)))\n",
    "                std::cout << '*';\n",
    "            else if (j < i)\n",
    "                std::cout << '.';\n",
    "        }\n",
    "        std::cout << '\\n';\n",
    "    }\n",
    "    return 0;\n",
    "}"
   ]
  },
  {
   "cell_type": "code",
   "execution_count": null,
   "id": "b6025483-fb7f-4498-a240-b2cbc209bcbe",
   "metadata": {},
   "outputs": [],
   "source": [
    "# Java Implementation\n",
    " import java.util.Scanner;\n",
    "     public class Main {\n",
    "        public static void main(String[] args) {\n",
    "            Scanner input = new Scanner(System.in);\n",
    "            System.out.print(\"enter an odd value \");\n",
    "            int n = input.nextInt();\n",
    "            for (int i = 0; i < n; i++) {\n",
    "                for (int j = 0; j < n; j++) {\n",
    "                    if (i <= n/2) {\n",
    "                        if (j < i || j >= n-i) {\n",
    "                            System.out.print(\".\");\n",
    "                        } else {\n",
    "                            System.out.print(\"*\");\n",
    "                        }\n",
    "                    } else {\n",
    "                        if (j < n-i-1 || j >= i+1) {\n",
    "                            System.out.print(\".\");\n",
    "                        } else {\n",
    "                            System.out.print(\"*\");\n",
    "                        }\n",
    "                    }\n",
    "                }\n",
    "                System.out.println();\n",
    "            }\n",
    "            \n",
    "        }\n",
    "    }"
   ]
  },
  {
   "cell_type": "code",
   "execution_count": 3,
   "id": "f0acca88-4935-4cf1-a00c-fa8de5db92bf",
   "metadata": {},
   "outputs": [
    {
     "name": "stdout",
     "output_type": "stream",
     "text": [
      "Hello Hello Hello \n",
      "Welcome Welcome Welcome Welcome Welcome \n"
     ]
    }
   ],
   "source": [
    "print (\"Hello \" * 3)\n",
    "print (\"Welcome \" * 5)"
   ]
  },
  {
   "cell_type": "code",
   "execution_count": null,
   "id": "3c11d0d2-f03f-467c-b06b-4020b798ca29",
   "metadata": {},
   "outputs": [],
   "source": [
    "Print the following pattern for user given ODD value for n.\n",
    "For n = 11     m = (n + 1) // 2 = 6\n",
    "\n",
    "                 i   .   *\n",
    "              ---------------\n",
    "***********      1   0  11       (i, m, n)\n",
    ".*********       2   1   9  . => (i - 1)\n",
    "..*******        3   2   7\n",
    "...*****         4   3   5  * => 2 * (m - i) + 1\n",
    "....***          5   4   3\n",
    ".....*        ___6___5___1___\n",
    "....***          7   4   3\n",
    "...*****         8   3   5  . => (n - i)\n",
    "..*******        9   2   7\n",
    ".*********      10   1   9  * => 2 * (i - m) + 1\n",
    "***********     11   0  11\n",
    "              ---------------\n",
    "              Tracing Table"
   ]
  },
  {
   "cell_type": "code",
   "execution_count": 7,
   "id": "31b89fa1-2923-462b-8113-69864224c50d",
   "metadata": {},
   "outputs": [
    {
     "name": "stdin",
     "output_type": "stream",
     "text": [
      "Please enter ODD number of layers:  12\n",
      "Please enter ODD number of layers:  18\n",
      "Please enter ODD number of layers:  20\n",
      "Please enter ODD number of layers:  16\n",
      "Please enter ODD number of layers:  11\n"
     ]
    },
    {
     "name": "stdout",
     "output_type": "stream",
     "text": [
      "***********\n",
      ".*********\n",
      "..*******\n",
      "...*****\n",
      "....***\n",
      ".....*\n",
      "....***\n",
      "...*****\n",
      "..*******\n",
      ".*********\n",
      "***********\n",
      "End of the program...\n"
     ]
    }
   ],
   "source": [
    "while (True):\n",
    "    n = int(input(\"Please enter ODD number of layers: \"))\n",
    "    if (n % 2 == 1): break\n",
    "m = (n + 1) // 2\n",
    "for i in range(1, n + 1):\n",
    "    if (i > m): b = (n - i); s = 2 * (i - m) + 1\n",
    "    else: b = (i - 1); s = 2 * (m - i) + 1\n",
    "    print (\".\" * b + \"*\" * s)\n",
    "print (\"End of the program...\")"
   ]
  },
  {
   "cell_type": "code",
   "execution_count": null,
   "id": "4aebeabd-09f2-4f9a-a42e-50d064ba7897",
   "metadata": {},
   "outputs": [],
   "source": [
    "Class Assignment:\n",
    "Find the sum of first n terms of the following series.\n",
    "index ->1   2   3   4   5    6   7   8   9   10   11  12  \n",
    "total = 1 + 2 + 3 + 4 + 10 + 5 + 6 + 7 + 8 + 26 + 9 + 10 + ... n terms\n",
    "\n",
    "Also find the 99-th term of the series. (Answer 80)\n",
    "for n = 5, total = 20\n",
    "for n = 10, total = 72\n",
    "for n = 11, total = 81"
   ]
  },
  {
   "cell_type": "code",
   "execution_count": null,
   "id": "fb20d782-ee89-4739-b4fe-6552605be2ed",
   "metadata": {},
   "outputs": [],
   "source": [
    "# C++ Implementation\n",
    "#include <iostream>\n",
    "int main() {\n",
    "    int n;\n",
    "    std::cout << \"Enter the number of terms: \";\n",
    "    std::cin >> n;\n",
    "\n",
    "    int groups = (n / 5);\n",
    "    int max = (4 * groups);\n",
    "    int ans = (max * (max + 1));\n",
    "\n",
    "    int remaining = (n - (groups * 5));\n",
    "    ans += ((remaining * ((2 * (max + 1)) + remaining - 1)) / 2);\n",
    "\n",
    "    std::cout << ans << '\\n';\n",
    "\n",
    "    return 0;\n",
    "}"
   ]
  },
  {
   "cell_type": "code",
   "execution_count": 11,
   "id": "0014d866-bfb3-45f8-a56c-796975e560bc",
   "metadata": {},
   "outputs": [
    {
     "name": "stdin",
     "output_type": "stream",
     "text": [
      "Please enter the number of terms:  11\n"
     ]
    },
    {
     "name": "stdout",
     "output_type": "stream",
     "text": [
      "Adding term = 1\n",
      "Adding term = 2\n",
      "Adding term = 3\n",
      "Adding term = 4\n",
      "Adding temporary sum = 10\n",
      "Adding term = 5\n",
      "Adding term = 6\n",
      "Adding term = 7\n",
      "Adding term = 8\n",
      "Adding temporary sum = 26\n",
      "Adding term = 9\n",
      "So the final total of the series is 81\n",
      "End of the program...\n"
     ]
    }
   ],
   "source": [
    "# Find the sum of first n terms of the following series.\n",
    "# index -> 1   2   3   4   5    6   7   8   9   10   11  12  \n",
    "# total  = 1 + 2 + 3 + 4 + 10 + 5 + 6 + 7 + 8 + 26 + 9 + 10 + ... n terms\n",
    "n = int(input(\"Please enter the number of terms: \"))\n",
    "fsum = tsum = 0\n",
    "term = 1\n",
    "for i in range(1, n + 1):\n",
    "    if (i % 5 == 0):\n",
    "        fsum = fsum + tsum\n",
    "        print (\"Adding temporary sum =\", tsum)\n",
    "        tsum = 0\n",
    "    else:\n",
    "        fsum = fsum + term\n",
    "        tsum = tsum + term\n",
    "        print (\"Adding term =\", term)\n",
    "        term = term + 1\n",
    "print (\"So the final total of the series is\", fsum)\n",
    "print (\"End of the program...\")"
   ]
  },
  {
   "cell_type": "code",
   "execution_count": null,
   "id": "809f46bc-db2f-44eb-a908-22f34b67246f",
   "metadata": {},
   "outputs": [],
   "source": [
    "# C++ Implementation\n",
    "#include <iostream>\n",
    "using namespace std;\n",
    "\n",
    "int main() {\n",
    "    int n, fsum, tsum, term, i;\n",
    "    cout << \"Please enter the number of terms: \";\n",
    "    cin >> n;\n",
    "    \n",
    "    fsum = 0; tsum = 0; term = 1;\n",
    "    for (i = 1; i <= n; i++) {\n",
    "        if (i % 5 == 0) {\n",
    "            fsum = fsum + tsum;\n",
    "            cout << \"Adding temporary sum = \" << tsum << endl;\n",
    "            tsum = 0;\n",
    "        } else {\n",
    "            fsum = fsum + term;\n",
    "            tsum = tsum + term;\n",
    "            cout << \"Adding term = \" << term << endl;\n",
    "            term = term + 1;\n",
    "        }\n",
    "    }\n",
    "    cout << \"So the final total of the series is \" << fsum << endl;\n",
    "    cout << \"End of the program...\" << endl;\n",
    "}"
   ]
  },
  {
   "cell_type": "markdown",
   "id": "332ae8fd-d241-4d2b-8275-4e8a7e8274ac",
   "metadata": {},
   "source": [
    "### **Spiral Fill Up**"
   ]
  },
  {
   "cell_type": "code",
   "execution_count": null,
   "id": "6bd567c9-40b9-485c-b05c-f1f9363f0c0b",
   "metadata": {},
   "outputs": [],
   "source": [
    "Problem: Spiral fill up in a clockwise direction\n",
    "------------------------------------------------\n",
    "Fill up a matrix with dimension (n x n) with numbers ranging from 1 to (n * n) in a clockwise spiral way.\n",
    "All numbers will be used once only and fill up will start from the top left corner of the matrix.\n",
    "                             r => row number, c => column number, \n",
    "Let n = 5 (1 to 25)          rr => increment/decrement factor along the row (0, 1, -1)\n",
    "                             cc => increment/decrement factor along the column (0, 1, -1)\n",
    "      0   1   2   3   4      r = r + rr                 rr   cc                  (1) Limit Check:\n",
    "-------------------------    c = c + cc               -----------   tt = rr        1. if (c == n)\n",
    " 0 |  1   2   3   4   5      r = c = rr = 0; cc = 1      0    1     rr = cc        2. if (r == n)\n",
    " 1 | 16  17  18  19   6      Algorithm:                  1    0     cc = -tt       3. if (c == -1)\n",
    " 2 | 15  24  25  20   7      input n                     0   -1 \n",
    " 3 | 14  23  22  21   8      initialize r, rr, c, cc    -1    0     tt = cc      (2) Pre-Occupied Check:\n",
    " 4 | 13  12  11  10   9      for i = 1 to n*n         -----------   cc = -rr       1. if (arr[r][c] != 0)\n",
    "-------------------------        a[r][c] = i             0    1     rr = tt     \n",
    "                             update r and c\n",
    "                             end"
   ]
  },
  {
   "cell_type": "code",
   "execution_count": 14,
   "id": "29094487-83e5-4f54-8ecc-c738e7470cf4",
   "metadata": {},
   "outputs": [
    {
     "name": "stdin",
     "output_type": "stream",
     "text": [
      "Please enter the dimension of the matrix:  5\n"
     ]
    },
    {
     "name": "stdout",
     "output_type": "stream",
     "text": [
      "[[0, 0, 0, 0, 0], [0, 0, 0, 0, 0], [0, 0, 0, 0, 0], [0, 0, 0, 0, 0], [0, 0, 0, 0, 0]]\n",
      "[[1, 2, 3, 4, 5], [16, 17, 18, 19, 6], [15, 24, 25, 20, 7], [14, 23, 22, 21, 8], [13, 12, 11, 10, 9]]\n",
      "    1    2    3    4    5\n",
      "   16   17   18   19    6\n",
      "   15   24   25   20    7\n",
      "   14   23   22   21    8\n",
      "   13   12   11   10    9\n",
      "End of the program...\n"
     ]
    }
   ],
   "source": [
    "n = int(input(\"Please enter the dimension of the matrix: \"))\n",
    "arr = [[0 for c in range(n)] for r in range(n)]\n",
    "print (arr)\n",
    "r = c = rr = 0; cc = 1\n",
    "for i in range(1, n * n + 1):\n",
    "    arr[r][c] = i\n",
    "    tr = r + rr\n",
    "    tc = c + cc\n",
    "    if (tc == n or tr == n or tc == -1 or arr[tr][tc] != 0):\n",
    "        # tt = rr; rr = cc; cc = -tt\n",
    "        rr, cc = cc, -rr\n",
    "    r = r + rr\n",
    "    c = c + cc\n",
    "print (arr)\n",
    "for r in range(n):\n",
    "    for c in range(n):\n",
    "        print (\"%5d\"%arr[r][c], end = \"\")\n",
    "    print (\"\")\n",
    "print (\"End of the program...\")"
   ]
  },
  {
   "cell_type": "code",
   "execution_count": null,
   "id": "f398e8b0-cd84-426a-b4e2-13558c75b463",
   "metadata": {},
   "outputs": [],
   "source": [
    "LeetCode: 59. Spiral Matrix II (https://leetcode.com/problems/spiral-matrix-ii/)\n",
    "Given a positive integer n, generate an n x n matrix filled with elements from 1 to n2 in spiral order.\n",
    "\n",
    "Example 1:\n",
    "Input: n = 3\n",
    "Output: [[1,2,3],[8,9,4],[7,6,5]]\n",
    "\n",
    "Example 2:\n",
    "Input: n = 1\n",
    "Output: [[1]]\n",
    "\n",
    "Constraints:\n",
    "1 <= n <= 20"
   ]
  },
  {
   "cell_type": "code",
   "execution_count": 15,
   "id": "2565f9c3-595f-4ed3-a164-3330c3746b80",
   "metadata": {},
   "outputs": [
    {
     "name": "stdout",
     "output_type": "stream",
     "text": [
      "[[1, 2, 3, 4, 5], [16, 17, 18, 19, 6], [15, 24, 25, 20, 7], [14, 23, 22, 21, 8], [13, 12, 11, 10, 9]]\n",
      "[[1, 2, 3], [8, 9, 4], [7, 6, 5]]\n"
     ]
    }
   ],
   "source": [
    "class Solution(object):\n",
    "    def generateMatrix(self, n):\n",
    "        \"\"\"\n",
    "        :type n: int\n",
    "        :rtype: List[List[int]]\n",
    "        \"\"\"\n",
    "        arr = [[0 for c in range(n)] for r in range(n)]\n",
    "        r = c = rr = 0; cc = 1\n",
    "        for i in range(1, n * n + 1):\n",
    "            arr[r][c] = i\n",
    "            tr = r + rr\n",
    "            tc = c + cc\n",
    "            if (tc == n or tr == n or tc == -1 or arr[tr][tc] != 0):\n",
    "                rr, cc = cc, -rr\n",
    "            r = r + rr\n",
    "            c = c + cc\n",
    "        return arr\n",
    "    \n",
    "print (Solution().generateMatrix(5))\n",
    "print (Solution().generateMatrix(3))"
   ]
  },
  {
   "cell_type": "code",
   "execution_count": null,
   "id": "b34fd4b0-3f82-420e-9387-28b241966165",
   "metadata": {},
   "outputs": [],
   "source": [
    "# C++ Implementation\n",
    "class Solution {\n",
    "public:\n",
    "    vector<vector<int>> generateMatrix(int n) {\n",
    "        vector<vector<int>> arr(n, vector<int>(n, 0));\n",
    "        int r = 0, c = 0, rr = 0, cc = 1;\n",
    "        for (int i = 1; i <= n * n; i++) {\n",
    "            arr[r][c] = i;\n",
    "            int tr = r + rr;\n",
    "            int tc = c + cc;\n",
    "            if (tc == n || tr == n || tc == -1 || arr[tr][tc] != 0) {\n",
    "                int temp = cc;\n",
    "                cc = -rr;\n",
    "                rr = temp;\n",
    "            }\n",
    "            r = r + rr;\n",
    "            c = c + cc;\n",
    "        }\n",
    "        return arr;\n",
    "    }\n",
    "};"
   ]
  },
  {
   "cell_type": "code",
   "execution_count": null,
   "id": "121e3a58-ee50-4d3d-830a-4e64242d070b",
   "metadata": {},
   "outputs": [],
   "source": [
    "# Java Implementation\n",
    "public class Main {\n",
    "    public static void main(String[] args) {\n",
    "        Solution solution = new Solution();\n",
    "        int n = 5;\n",
    "        int[][] result = solution.generateMatrix(n);\n",
    "\n",
    "        // Print the matrix\n",
    "        for (int i = 0; i < n; i++) {\n",
    "            for (int j = 0; j < n; j++) {\n",
    "                System.out.print(result[i][j] + \" \");\n",
    "            }\n",
    "            System.out.println();\n",
    "        }\n",
    "    }\n",
    "}\n",
    "\n",
    "class Solution {\n",
    "    public int[][] generateMatrix(int n) {\n",
    "        int[][] result = new int[n][n];\n",
    "        int m = n;\n",
    "        int l = 0, k = 0;\n",
    "        int i, value = 1;\n",
    "\n",
    "        while (k < m && l < n) {\n",
    "            for (i = l; i < n; i++) {\n",
    "                result[k][i] = value++;\n",
    "            }\n",
    "            k++;\n",
    "\n",
    "            for (i = k; i < m; i++) {\n",
    "                result[i][n - 1] = value++;\n",
    "            }\n",
    "            n--;\n",
    "\n",
    "            for (i = n - 1; i >= l; i--) {\n",
    "                result[m - 1][i] = value++;\n",
    "            }\n",
    "            m--;\n",
    "\n",
    "            for (i = m - 1; i >= k; i--) {\n",
    "                result[i][l] = value++;\n",
    "            }\n",
    "            l++;\n",
    "        }\n",
    "\n",
    "        return result;\n",
    "    }\n",
    "}\n"
   ]
  },
  {
   "cell_type": "code",
   "execution_count": null,
   "id": "b917c30d-e702-4fcd-ac3b-9c567a333f3b",
   "metadata": {},
   "outputs": [],
   "source": [
    "# C++ Implementation\n",
    "#include <iostream>\n",
    "#include <vector>\n",
    "\n",
    "int main()\n",
    "{\n",
    "    int n;\n",
    "    std::cout << \"Enter a positive integer: \";\n",
    "    std::cin >> n;\n",
    "\n",
    "    std::vector<std::vector<int>> a(n, std::vector<int>(n));\n",
    "\n",
    "    int num = 1;\n",
    "\n",
    "    int m = n;\n",
    "\n",
    "    for (int i = 0; i <= ((n - 1) / 2); ++i)\n",
    "    {\n",
    "        int r = i, c = i;\n",
    "\n",
    "        for (int j = 0; j < m; ++j)\n",
    "        {\n",
    "            a[r][c] = (num)++;\n",
    "            ++c;\n",
    "        }\n",
    "\n",
    "        ++r;\n",
    "        --c;\n",
    "\n",
    "        for (int j = 0; j < (m - 1); ++j)\n",
    "        {\n",
    "            a[r][c] = (num)++;\n",
    "            ++r;\n",
    "        }\n",
    "\n",
    "        --r;\n",
    "        --c;\n",
    "\n",
    "        for (int j = 0; j < (m - 1); ++j)\n",
    "        {\n",
    "            a[r][c] = (num)++;\n",
    "            --c;\n",
    "        }\n",
    "\n",
    "        --r;\n",
    "        ++c;\n",
    "\n",
    "        for (int j = 0; j < (m - 2); ++j)\n",
    "        {\n",
    "            a[r][c] = (num)++;\n",
    "            --r;\n",
    "        }\n",
    "\n",
    "        m -= 2;\n",
    "    }\n",
    "\n",
    "    std::cout << '\\n';\n",
    "\n",
    "    for (int i = 0; i < n; ++i)\n",
    "    {\n",
    "        for (int j = 0; j < n; ++j)\n",
    "        {\n",
    "            printf(\"%2d \", a[i][j]);\n",
    "        }\n",
    "\n",
    "        std::cout << '\\n';\n",
    "    }\n",
    "\n",
    "    return 0;\n",
    "}"
   ]
  },
  {
   "cell_type": "code",
   "execution_count": null,
   "id": "ac829eb4-3800-4dc6-abfb-14534c6bde28",
   "metadata": {},
   "outputs": [],
   "source": [
    "LeetCode: 54. Spiral Matrix (https://leetcode.com/problems/spiral-matrix/)\n",
    "Given an m x n matrix, return all elements of the matrix in spiral order.\n",
    "\n",
    "Example 1:\n",
    "Input: matrix = [[1,2,3],[4,5,6],[7,8,9]]\n",
    "Output: [1,2,3,6,9,8,7,4,5]\n",
    "\n",
    "Example 2:\n",
    "Input: matrix = [[1,2,3,4],[5,6,7,8],[9,10,11,12]]\n",
    "Output: [1,2,3,4,8,12,11,10,9,5,6,7]\n",
    "\n",
    "Constraints:\n",
    "m == matrix.length\n",
    "n == matrix[i].length\n",
    "1 <= m, n <= 10\n",
    "-100 <= matrix[i][j] <= 100"
   ]
  },
  {
   "cell_type": "code",
   "execution_count": 16,
   "id": "77f390a2-7805-4da7-b033-e95734c03b6b",
   "metadata": {},
   "outputs": [
    {
     "name": "stdout",
     "output_type": "stream",
     "text": [
      "[1, 2, 3, 4, 8, 12, 11, 10, 9, 5, 6, 7]\n"
     ]
    }
   ],
   "source": [
    "class Solution(object):\n",
    "    def spiralOrder(self, matrix):\n",
    "        \"\"\"\n",
    "        :type matrix: List[List[int]]\n",
    "        :rtype: List[int]\n",
    "        \"\"\"\n",
    "        max_row = len(matrix)\n",
    "        max_col = len(matrix[0])\n",
    "        arr1 = [0 for i in range(max_row * max_col)]\n",
    "        r = 0; c = 0; rr = 0; cc = 1\n",
    "        min_row = min_col = -1\n",
    "        for i in range(max_row * max_col):\n",
    "            arr1[i] = matrix[r][c]\n",
    "            tr = r + rr; tc = c + cc\n",
    "            if (tc == max_col or tc == min_col or tr == max_row or tr == min_row):\n",
    "                # tt = rr; rr = cc; cc = -tt\n",
    "                rr, cc = cc, -rr\n",
    "                if (tc == max_col): min_row += 1\n",
    "                elif (tc == min_col): max_row -= 1\n",
    "                elif (tr == max_row): max_col -= 1\n",
    "                elif (tc == min_row): min_col += 1\n",
    "            r = r + rr; c = c + cc\n",
    "        return arr1\n",
    "        \n",
    "print (Solution().spiralOrder([[1,2,3,4],[5,6,7,8],[9,10,11,12]]))"
   ]
  },
  {
   "cell_type": "markdown",
   "id": "603a3932-16bc-4a44-bc37-e4b8b5f3cd18",
   "metadata": {},
   "source": [
    "### **Magic Square**"
   ]
  },
  {
   "cell_type": "code",
   "execution_count": null,
   "id": "91a52272-a614-4e99-afed-ed3654a28108",
   "metadata": {},
   "outputs": [],
   "source": [
    "Fill up a matrix with the dimension (n x n), where n is a user given odd integer, with numbers ranging from 1 to (n * n)\n",
    "using them once in such a way that all row-wise, column-wise and diagonal-wise sums are equal to each other. The matrix\n",
    "thus obtained is called the Magic Square and sum thus obtained is called the Magic Sum.\n",
    "                                   *   *   *     r = 0, c = n // 2\n",
    "Let n = 5 (numbers are 1 to 25)   **  **  **     r--, c++\n",
    "                                 * * * * * * *  \n",
    "      0   1   2   3   4         *  **  **  **    Limit Check:\n",
    "-------------------------      *   *   *   *       (2/3) row-folding: if (r == -1) then r = (n - 1)\n",
    " 0 | 17  24   1   8  15                            (3/2) col-folding: if (c == n) then c = 0\n",
    " 1 | 23   5   7  14  16                            (1) corner-logic: if (r == -1 and c == n) then r = r + 2, c = c - 1\n",
    " 2 |  4   6  13  20  22   \n",
    " 3 | 10  12  19  21   3                          Pre-Occupied:\n",
    " 4 | 11  18  25   2   9                            (4) if (a[r][c] != 0) then r = r + 2, c = c - 1\n",
    "--------------------------\n",
    "Magic Sum = 65\n",
    "\n",
    "Let n = 3 (numbers are 1 to 9)                     n   msum\n",
    "      0   1   2                                  ------------\n",
    "------------------                                 3   15\n",
    " 0 |  8   1   6                                    5   65\n",
    " 1 |  3   5   7                                    7   175\n",
    " 2 |  4   9   2                                    n   n * (1 + (n * n)) // 2\n",
    "------------------                               ------------\n",
    "Magic Sum = 15"
   ]
  },
  {
   "cell_type": "code",
   "execution_count": 29,
   "id": "6480f406-62eb-4635-bd04-3dc8efeb8498",
   "metadata": {},
   "outputs": [
    {
     "name": "stdin",
     "output_type": "stream",
     "text": [
      "Please enter ODD numver of layers:  9\n"
     ]
    },
    {
     "name": "stdout",
     "output_type": "stream",
     "text": [
      "So the Pre-Calculated Magic Sum is: 369\n",
      "[[0, 0, 0, 0, 0, 0, 0, 0, 0], [0, 0, 0, 0, 0, 0, 0, 0, 0], [0, 0, 0, 0, 0, 0, 0, 0, 0], [0, 0, 0, 0, 0, 0, 0, 0, 0], [0, 0, 0, 0, 0, 0, 0, 0, 0], [0, 0, 0, 0, 0, 0, 0, 0, 0], [0, 0, 0, 0, 0, 0, 0, 0, 0], [0, 0, 0, 0, 0, 0, 0, 0, 0], [0, 0, 0, 0, 0, 0, 0, 0, 0]]\n",
      "[[47, 58, 69, 80, 1, 12, 23, 34, 45], [57, 68, 79, 9, 11, 22, 33, 44, 46], [67, 78, 8, 10, 21, 32, 43, 54, 56], [77, 7, 18, 20, 31, 42, 53, 55, 66], [6, 17, 19, 30, 41, 52, 63, 65, 76], [16, 27, 29, 40, 51, 62, 64, 75, 5], [26, 28, 39, 50, 61, 72, 74, 4, 15], [36, 38, 49, 60, 71, 73, 3, 14, 25], [37, 48, 59, 70, 81, 2, 13, 24, 35]]\n",
      "  47  58  69  80   1  12  23  34  45\n",
      "  57  68  79   9  11  22  33  44  46\n",
      "  67  78   8  10  21  32  43  54  56\n",
      "  77   7  18  20  31  42  53  55  66\n",
      "   6  17  19  30  41  52  63  65  76\n",
      "  16  27  29  40  51  62  64  75   5\n",
      "  26  28  39  50  61  72  74   4  15\n",
      "  36  38  49  60  71  73   3  14  25\n",
      "  37  48  59  70  81   2  13  24  35\n",
      "So the Post-Calculated Magic Sum is: 369\n",
      "End of the program...\n"
     ]
    }
   ],
   "source": [
    "n = int(input(\"Please enter ODD numver of layers: \"))\n",
    "print (\"So the Pre-Calculated Magic Sum is:\", n * (1 + (n * n)) // 2)\n",
    "arr1 = [[0 for col in range(n)] for row in range(n)]\n",
    "print (arr1)\n",
    "r = 0; c = n // 2\n",
    "msum = 0\n",
    "for i in range(1, (n * n) + 1):\n",
    "    arr1[r][c] = i\n",
    "    if (r == c): msum += arr1[r][c]\n",
    "    r -= 1; c += 1\n",
    "    if (r == -1 and c == n): r = r + 2; c = c - 1\n",
    "    elif (r == -1): r = (n - 1)\n",
    "    elif (c == n): c = 0\n",
    "    elif (arr1[r][c] != 0): r = r + 2; c = c - 1\n",
    "print (arr1)\n",
    "for row in range(n):\n",
    "    for col in range(n):\n",
    "        print (\"%4d\"%arr1[row][col], end = \"\")\n",
    "    print (\"\")\n",
    "print (\"So the Post-Calculated Magic Sum is:\", msum)\n",
    "print (\"End of the program...\")"
   ]
  },
  {
   "cell_type": "code",
   "execution_count": null,
   "id": "dc748ca2-271b-4019-b402-97b302205991",
   "metadata": {},
   "outputs": [],
   "source": [
    "# C++ Implementation\n",
    "// Magic square.\n",
    "\n",
    "#include <iostream>\n",
    "#include <vector>\n",
    "\n",
    "int main()\n",
    "{\n",
    "    int n;\n",
    "    std::cout << \"Enter a postive odd integer: \";\n",
    "    std::cin >> n;\n",
    "\n",
    "    int magic_sum = 0;\n",
    "\n",
    "    std::vector<std::vector<int>> a(n, std::vector<int>(n, 0));\n",
    "\n",
    "    int r = 0, c = (n / 2);\n",
    "\n",
    "    for (int i = 1; i <= (n * n); ++i)\n",
    "    {\n",
    "        a[r][c] = i;\n",
    "\n",
    "        if (r == c)\n",
    "            magic_sum += a[r][c];\n",
    "\n",
    "        int new_r = ((r - 1) % n);\n",
    "        if (new_r < 0)\n",
    "            new_r += n;\n",
    "\n",
    "        int new_c = ((c + 1) % n);\n",
    "\n",
    "        if (a[new_r][new_c] == 0)\n",
    "        {\n",
    "            r = new_r;\n",
    "            c = new_c;\n",
    "        }\n",
    "\n",
    "        else\n",
    "        {\n",
    "            r = ((r + 1) % n);\n",
    "        }\n",
    "    }\n",
    "\n",
    "    std::cout << '\\n';\n",
    "\n",
    "    for (int i = 0; i < n; ++i)\n",
    "    {\n",
    "        for (int j = 0; j < n; ++j)\n",
    "        {\n",
    "            printf(\"%2d \", a[i][j]);\n",
    "        }\n",
    "\n",
    "        std::cout << '\\n';\n",
    "    }\n",
    "\n",
    "    std::cout << \"\\nMagic sum = \" << magic_sum;\n",
    "    std::cout << \" = (\" << n << \" * ((1 + (\" << n << \" * \" << n << \")) / 2))\\n\";\n",
    "\n",
    "    return 0;\n",
    "}\n"
   ]
  },
  {
   "cell_type": "markdown",
   "id": "984fdb8c-e762-41b2-b6c1-c0d9602328e4",
   "metadata": {},
   "source": [
    "### **Bit Manipulation**"
   ]
  },
  {
   "cell_type": "code",
   "execution_count": 8,
   "id": "da462ae6-30d8-4a8f-9e6c-7f9bd746f875",
   "metadata": {},
   "outputs": [
    {
     "name": "stdout",
     "output_type": "stream",
     "text": [
      "100 & 50 = 32\n",
      "100 | 50 = 118\n",
      "100 ^ 50 = 86\n",
      "~1 = -2\n"
     ]
    }
   ],
   "source": [
    "# Bit Manipulation Operators: | & ~ ^ >> << >>>\n",
    "data1 = 100    # 100 = 64 + 32 + 4 = 0110 0100\n",
    "data2 = 50     # 50 = 32 + 16 + 2  = 0011 0010\n",
    "data3 = data1 & data2   #    0110 0100\n",
    "                        #  & 0011 0010\n",
    "                        #    ---------\n",
    "                        #    0010 0000 => 32\n",
    "            \n",
    "print (f\"{data1} & {data2} = {data3}\")\n",
    "data3 = data1 | data2   #    0110 0100\n",
    "                        #  | 0011 0010\n",
    "                        #    ---------\n",
    "                        #    0111 0110 => 118\n",
    "\n",
    "print (f\"{data1} | {data2} = {data3}\")\n",
    "\n",
    "data3 = data1 ^ data2   #    0110 0100\n",
    "                        #  ^ 0011 0010\n",
    "                        #    ---------\n",
    "                        #    0101 0110 => 127 - 9 - 32 = 86\n",
    "\n",
    "print (f\"{data1} ^ {data2} = {data3}\")\n",
    "\n",
    "data4 = 1\n",
    "data5 = ~data4   # ~ 0000 0001 = 1111 1110 => -2   => 0000 0001 + 1 = 0000 0010\n",
    "print (f\"~{data4} = {data5}\")"
   ]
  },
  {
   "cell_type": "code",
   "execution_count": 14,
   "id": "bdc17137-08d8-412d-aa04-8f3e59cdb58a",
   "metadata": {},
   "outputs": [
    {
     "name": "stdout",
     "output_type": "stream",
     "text": [
      "1 << 3 = 8\n",
      "8 >> 3 = 1\n"
     ]
    }
   ],
   "source": [
    "data1 = 1   # 0000 0001\n",
    "n = 3\n",
    "data2 = data1 << n    # 0000 0001 << 3 = 0000 1000 => 8\n",
    "print (f\"{data1} << {n} = {data2}\")   # x << n = x * 2^n\n",
    "\n",
    "data1 = 8   # 0000 1000\n",
    "n = 3\n",
    "data2 = data1 >> n    # 0000 1000 >> 3 = 0000 0001 => 1\n",
    "print (f\"{data1} >> {n} = {data2}\")   # x >> n = x / 2^n"
   ]
  },
  {
   "cell_type": "code",
   "execution_count": null,
   "id": "f4c33063-bfb8-4c6f-bde3-0c5232b09c10",
   "metadata": {},
   "outputs": [],
   "source": [
    "Arithmetic Shift Right (>>>)\n",
    "----------------------------\n",
    "data1 = 1101 1010\n",
    "data1 >>> 2   # 1101 1010\n",
    "              # 1110 1101  data1 >>> 1\n",
    "              # 1111 0110  data1 >>> 1"
   ]
  },
  {
   "cell_type": "code",
   "execution_count": null,
   "id": "bc22c85d-aa2a-4f8b-91d7-48a9b462d1b3",
   "metadata": {},
   "outputs": [],
   "source": [
    "# C++ Implementation\n",
    "#include <iostream>\n",
    "using namespace std;\n",
    "\n",
    "int main() {\n",
    "    int data1 = 100, data2 = 50;\n",
    "    cout << data1 << \" & \" << data2 << \" = \" << (data1 & data2) << endl;\n",
    "    cout << data1 << \" | \" << data2 << \" = \" << (data1 | data2) << endl;\n",
    "    cout << data1 << \" ^ \" << data2 << \" = \" << (data1 ^ data2) << endl;\n",
    "    \n",
    "    return 0;\n",
    "}"
   ]
  },
  {
   "cell_type": "code",
   "execution_count": 17,
   "id": "4e5834ea-da27-439a-b141-54c2dec3a280",
   "metadata": {},
   "outputs": [
    {
     "name": "stdout",
     "output_type": "stream",
     "text": [
      "False\n",
      "True\n"
     ]
    }
   ],
   "source": [
    "def isOdd(num):\n",
    "    return (num & 1) == 1\n",
    "\n",
    "print (isOdd(100))\n",
    "print (isOdd(555))"
   ]
  },
  {
   "cell_type": "code",
   "execution_count": 18,
   "id": "b09f26f7-64a0-4222-8db6-4d15e5351588",
   "metadata": {},
   "outputs": [
    {
     "name": "stdout",
     "output_type": "stream",
     "text": [
      "True\n",
      "False\n"
     ]
    }
   ],
   "source": [
    "def isEven(num):\n",
    "    return not isOdd(num)\n",
    "\n",
    "print (isEven(100))\n",
    "print (isEven(555))"
   ]
  },
  {
   "cell_type": "code",
   "execution_count": 20,
   "id": "7b8636f8-f2ed-4287-8af9-c73015da4add",
   "metadata": {},
   "outputs": [
    {
     "name": "stdout",
     "output_type": "stream",
     "text": [
      "1\n",
      "0\n"
     ]
    }
   ],
   "source": [
    "def getBit(n, i):\n",
    "    #                 7654 3210\n",
    "    # for (20, 2) => (0001 0100, 2) => 1\n",
    "    mask = (1 << i) # 0000 0100\n",
    "    bit = 1 if (n & mask) else 0\n",
    "    return bit\n",
    "\n",
    "print (getBit(20, 2))\n",
    "print (getBit(20, 3))"
   ]
  },
  {
   "cell_type": "code",
   "execution_count": null,
   "id": "0dc597d1-17c2-4649-94de-37c86d240472",
   "metadata": {},
   "outputs": [],
   "source": [
    "# C++ Implementation\n",
    "#include <iostream>\n",
    "using namespace std;\n",
    "\n",
    "int getBit(int n, int i) {\n",
    "    int mask = 1 << i;\n",
    "    int bit = n & mask? 1: 0;\n",
    "    return bit;\n",
    "}\n",
    "\n",
    "int main() {\n",
    "    cout << getBit(20, 2) << endl;\n",
    "    cout << getBit(20, 3) << endl;\n",
    "    \n",
    "    return 0;\n",
    "}"
   ]
  },
  {
   "cell_type": "code",
   "execution_count": 21,
   "id": "179e8599-b56e-4ba5-a0ca-b10940765b29",
   "metadata": {},
   "outputs": [
    {
     "name": "stdout",
     "output_type": "stream",
     "text": [
      "28\n"
     ]
    }
   ],
   "source": [
    "def setBit(n, i):\n",
    "    #                                7654 3210\n",
    "    # for (20, 3) => 0001 0100, 3 => 0001 0100 | 0000 1000 = 0001 1100 = 28\n",
    "    mask = 1 << i\n",
    "    return n | mask\n",
    "\n",
    "print (setBit(20, 3))"
   ]
  },
  {
   "cell_type": "code",
   "execution_count": 23,
   "id": "1c9be836-4748-4dbe-aa9e-744fdc646115",
   "metadata": {},
   "outputs": [
    {
     "name": "stdout",
     "output_type": "stream",
     "text": [
      "16\n"
     ]
    }
   ],
   "source": [
    "def clearBit(n, i):\n",
    "    #                                7654 3210\n",
    "    # for (20, 2) => 0001 0100, 2 => 0001 0100 & 1111 1011 = 0001 0000 = 16\n",
    "    mask = ~(1 << i)\n",
    "    return n & mask\n",
    "\n",
    "print (clearBit(20, 2))"
   ]
  },
  {
   "cell_type": "code",
   "execution_count": null,
   "id": "a4a3db3d-66b9-40e7-8a62-7f848e71ad7e",
   "metadata": {},
   "outputs": [],
   "source": [
    "# C++ Implementation\n",
    "#include <iostream>\n",
    "using namespace std;\n",
    "\n",
    "int clearBit(int n, int i) {\n",
    "    int mask = ~(1 << i);\n",
    "    return n & mask;\n",
    "}\n",
    "\n",
    "int main() {\n",
    "    cout << clearBit(20, 2) << endl;\n",
    "    cout << clearBit(20, 3) << endl;\n",
    "    \n",
    "    return 0;\n",
    "}"
   ]
  },
  {
   "cell_type": "code",
   "execution_count": 24,
   "id": "6a781954-dc82-4ad7-864a-e65195b76729",
   "metadata": {},
   "outputs": [
    {
     "name": "stdout",
     "output_type": "stream",
     "text": [
      "28\n"
     ]
    }
   ],
   "source": [
    "def updateBit(n, position, bit):\n",
    "    # updating postion-th bit from the right in the number n with given bit\n",
    "    #                   7654 3210\n",
    "    # for (20, 3, 1) => 0001 0100, 3, 1 => 0001 1100 => 28\n",
    "    mask = ~(1 << position)\n",
    "    cleared_n = n & mask\n",
    "    return cleared_n | (bit << position)\n",
    "\n",
    "print (updateBit(20, 3, 1))"
   ]
  },
  {
   "cell_type": "code",
   "execution_count": 27,
   "id": "95442ff8-36a1-4a5a-9d46-e401e04b9f27",
   "metadata": {},
   "outputs": [
    {
     "name": "stdout",
     "output_type": "stream",
     "text": [
      "28\n",
      "16\n"
     ]
    }
   ],
   "source": [
    "def updateBit(n, position, bit):\n",
    "    # updating postion-th bit from the right in the number n with given bit\n",
    "    #                   7654 3210\n",
    "    # for (20, 3, 1) => 0001 0100, 3, 1 => 0001 1100 => 28\n",
    "    if (bit): return setBit(n, position)\n",
    "    else: return clearBit(n, position)\n",
    "\n",
    "print (updateBit(20, 3, 1))\n",
    "print (updateBit(20, 2, 0))"
   ]
  },
  {
   "cell_type": "code",
   "execution_count": 28,
   "id": "11ae6a23-59dd-416a-8a3a-ceaf65c51790",
   "metadata": {},
   "outputs": [
    {
     "name": "stdout",
     "output_type": "stream",
     "text": [
      "16\n"
     ]
    }
   ],
   "source": [
    "def clearLastIBits(n, i):\n",
    "    # for (20, 4) => 0001 0100, 4 => 0001 0000 => 16\n",
    "    # 0001 0100 & 1111 0000 = 0001 0000\n",
    "    # -1 = 2's complement of 0000 0001 = 1111 1110 + 1 = 1111 1111\n",
    "    # 1111 1111 + 0000 0001 = 0000 0000\n",
    "    mask = (-1) << i\n",
    "    return n & mask\n",
    "\n",
    "print (clearLastIBits(20, 4))"
   ]
  },
  {
   "cell_type": "code",
   "execution_count": null,
   "id": "84da02e4-8228-49a2-856b-c946c9ee39ca",
   "metadata": {},
   "outputs": [],
   "source": [
    "# C++ Implementation\n",
    "#include <iostream>\n",
    "using namespace std;\n",
    "\n",
    "int clearLastIBits(int n, int i) {\n",
    "    int mask = (-1) << i;\n",
    "    return n & mask;\n",
    "}\n",
    "\n",
    "int main() {\n",
    "    cout << clearLastIBits(20, 4) << endl;\n",
    "    cout << clearLastIBits(100, 4) << endl;\n",
    "    \n",
    "    return 0;\n",
    "}"
   ]
  },
  {
   "cell_type": "code",
   "execution_count": 30,
   "id": "c4678cac-8236-410c-812b-8fe3e2d403ec",
   "metadata": {},
   "outputs": [
    {
     "name": "stdout",
     "output_type": "stream",
     "text": [
      "35\n"
     ]
    }
   ],
   "source": [
    "def clearRangeItoJ(n, i, j):\n",
    "    # clearing all bits from i (right) to j (left) bit positions\n",
    "    #                   7654 3210\n",
    "    # for (63, 2, 4) => 0011 1111, 2, 4 => 0010 0011 => 35\n",
    "    #                      ----\n",
    "    # mask  = 1110 0011 = mask1 | mask2\n",
    "    # mask1 = 1110 0000 => (-1) << 5 = (-1) << (i + j - 1)\n",
    "    # mask2 = 0000 0011 => ~((-1) << 2) = ~((-1) << i)\n",
    "    mask1 = (-1) << (i + j - 1)\n",
    "    mask2 = ~((-1) << i)\n",
    "    mask = mask1 | mask2\n",
    "    return n & mask\n",
    "\n",
    "print (clearRangeItoJ(63, 2, 4))"
   ]
  },
  {
   "cell_type": "code",
   "execution_count": null,
   "id": "e8580baf-b1e2-4f29-8b00-9289a60964e7",
   "metadata": {},
   "outputs": [],
   "source": [
    "# C++ Implementation\n",
    "#include <iostream>\n",
    "using namespace std;\n",
    "\n",
    "int clearRangeItoJ(int n, int i, int j) {\n",
    "    int mask1 = (-1) << (i + j - 1);\n",
    "    int mask2 = ~((-1) << i);\n",
    "    int mask = mask1 | mask2;\n",
    "    return n & mask;\n",
    "}\n",
    "\n",
    "int main() {\n",
    "    cout << clearRangeItoJ(63, 2, 4) << endl;\n",
    "    cout << clearRangeItoJ(63, 2, 5) << endl;\n",
    "    \n",
    "    return 0;\n",
    "}"
   ]
  },
  {
   "cell_type": "code",
   "execution_count": 33,
   "id": "1e489ccd-df6e-4fa9-b039-a267f7d8ec3f",
   "metadata": {},
   "outputs": [
    {
     "name": "stdout",
     "output_type": "stream",
     "text": [
      "Executing for n = 22...\n",
      "Executing for n = 11...\n",
      "Executing for n = 5...\n",
      "Executing for n = 2...\n",
      "Executing for n = 1...\n",
      "3\n",
      "Executing for n = 500...\n",
      "Executing for n = 250...\n",
      "Executing for n = 125...\n",
      "Executing for n = 62...\n",
      "Executing for n = 31...\n",
      "Executing for n = 15...\n",
      "Executing for n = 7...\n",
      "Executing for n = 3...\n",
      "Executing for n = 1...\n",
      "6\n"
     ]
    }
   ],
   "source": [
    "# counting number of set bits in a number n\n",
    "# 22 = 16 + 4 + 2 = 0001 0110 => 3\n",
    "# 500 = 256 + 128 + 64 + 32 + 16 + 4 = 1 1111 0100\n",
    "def countBits(n):\n",
    "    ans = 0\n",
    "    while (n):\n",
    "        print (f\"Executing for n = {n}...\")\n",
    "        ans += (n & 1)\n",
    "        n = n >> 1\n",
    "    return ans\n",
    "\n",
    "print (countBits(22))\n",
    "print (countBits(500))"
   ]
  },
  {
   "cell_type": "code",
   "execution_count": 36,
   "id": "a5b7294a-30ae-46ef-8017-46669084cd22",
   "metadata": {},
   "outputs": [
    {
     "name": "stdout",
     "output_type": "stream",
     "text": [
      "Executing for n = 22...\n",
      "Executing for n = 20...\n",
      "Executing for n = 16...\n",
      "3\n",
      "Executing for n = 500...\n",
      "Executing for n = 496...\n",
      "Executing for n = 480...\n",
      "Executing for n = 448...\n",
      "Executing for n = 384...\n",
      "Executing for n = 256...\n",
      "6\n"
     ]
    }
   ],
   "source": [
    "# counting number of set bits in a number n                    # ans    n \n",
    "# 22 = 16 + 4 + 2 = 0001 0110 => 3                             # ------------------------------\n",
    "# 500 = 256 + 128 + 64 + 32 + 16 + 4 = 1 1111 0100 => 6        # 0      22 = 10110\n",
    "def countBitsFast1(n):                                         # 1      22 & 21 = 10110 & 10101 = 10100 => 20\n",
    "    ans = 0                                                    # 2      20 & 19 = 10100 & 10011 = 10000 => 16\n",
    "    while (n):                                                 # 3      16 & 15 = 10000 & 01111 = 00000 => 0\n",
    "        print (f\"Executing for n = {n}...\")\n",
    "        n = n & (n - 1)\n",
    "        ans += 1\n",
    "    return ans\n",
    "\n",
    "print (countBitsFast1(22))\n",
    "print (countBitsFast1(500))"
   ]
  },
  {
   "cell_type": "code",
   "execution_count": 37,
   "id": "bb082990-0c7d-4987-b19c-657df3690182",
   "metadata": {},
   "outputs": [
    {
     "name": "stdout",
     "output_type": "stream",
     "text": [
      "Executing for n = 22...\n",
      "Executing for n = 20...\n",
      "Executing for n = 16...\n",
      "3\n",
      "Executing for n = 500...\n",
      "Executing for n = 496...\n",
      "Executing for n = 480...\n",
      "Executing for n = 448...\n",
      "Executing for n = 384...\n",
      "Executing for n = 256...\n",
      "6\n"
     ]
    }
   ],
   "source": [
    "# counting number of set bits in a number n                    # ans    p = n & (-n)                           n = n - p\n",
    "# 22 = 16 + 4 + 2 = 0001 0110 => 3                             # -----------------------------------------------------------\n",
    "# 500 = 256 + 128 + 64 + 32 + 16 + 4 = 1 1111 0100 => 6        # 0                                            22 = 10110\n",
    "def countBitsFast2(n):                                         # 1      22 & (-22) = 10110 & 01010 = 00010    22 - 2 = 20\n",
    "    ans = 0                                                    # 2      20 & (-20) = 10100 & 01100 = 00100    20 - 4 = 16\n",
    "    while (n):                                                 # 3      16 & (-16) = 10000 & 10000 = 10000    16 - 16 = 0\n",
    "        print (f\"Executing for n = {n}...\")\n",
    "        p = n & (-n)\n",
    "        n = n - p\n",
    "        ans += 1\n",
    "    return ans\n",
    "\n",
    "print (countBitsFast2(22))\n",
    "print (countBitsFast2(500))"
   ]
  },
  {
   "cell_type": "code",
   "execution_count": 39,
   "id": "b34c9dd7-c90e-41cc-83ef-c6070c1ce9f5",
   "metadata": {},
   "outputs": [
    {
     "name": "stdout",
     "output_type": "stream",
     "text": [
      "Executing the loop for n = 10...\n",
      "Executing the loop for n = 5...\n",
      "Executing the loop for n = 2...\n",
      "Executing the loop for n = 1...\n",
      "1024\n"
     ]
    }
   ],
   "source": [
    "# binary exponentiation method, complexity is log2(n)\n",
    "def power_optimized(a, n):                                              #    a      n            result       last_bit\n",
    "    # calculating a to the power of n                                   # ------------------------------------------------------ \n",
    "    # for a = 2 and n = 10, so 2^10 = 1024 is the answer                #    2      10 = 1010    1\n",
    "    # now 10 = 1010, i.e. log2(n) number of bit computations            #    4      101 = 5                   0\n",
    "    # starting from the right of 1010 and when                          #    16     10 = 2       4            1\n",
    "    # the bit is 0, just do a = a * a                                   #    256    1 = 1                     0\n",
    "    # the bit is 1, just do result = result * a and also a = a * a      #    256^2  0            1024         1\n",
    "    result = 1\n",
    "    while (n > 0):\n",
    "        print (f\"Executing the loop for n = {n}...\")\n",
    "        last_bit = n & 1\n",
    "        if (last_bit): result = result * a\n",
    "        a = a * a\n",
    "        n = n >> 1\n",
    "    return result\n",
    "\n",
    "print (power_optimized(2, 10))"
   ]
  },
  {
   "cell_type": "code",
   "execution_count": null,
   "id": "4f03b6d2-03fa-4de4-a6f1-1838b8ee0174",
   "metadata": {},
   "outputs": [],
   "source": [
    "Bit Manipulation Lessons\n",
    "------------------------\n",
    "1. data << n = data * (2^n)\n",
    "2. data >> n = data / (2^n)\n",
    "3. -1 = ~0 = 11...0 (all 1 bits)\n",
    "4. ~n = -n - 1  or -n = ~n + 1 = 1's complement + 1\n",
    "5. -n = (2^n - n)\n",
    "6. n & (n - 1) => 100110 => 100100 (Right most 1 bit will be reset)\n",
    "7. n & (-n) => 100110 => 000010 (Only right most 1 bit will sustain)"
   ]
  },
  {
   "cell_type": "markdown",
   "id": "c14351de-7c2e-4636-9321-dbc8182787df",
   "metadata": {},
   "source": [
    "### **Bit Manipulation Based Problem Solving**"
   ]
  },
  {
   "cell_type": "code",
   "execution_count": null,
   "id": "65ec506e-ab1d-4708-80a1-750e9e8c522b",
   "metadata": {},
   "outputs": [],
   "source": [
    "LeetCode: 136. Single Number (https://leetcode.com/problems/single-number/)\n",
    "Given a non-empty array of integers nums, every element appears twice except for one. Find that single one.\n",
    "You must implement a solution with a linear runtime complexity and use only constant extra space.\n",
    "\n",
    "Example 1:\n",
    "Input: nums = [2,2,1]\n",
    "Output: 1\n",
    "\n",
    "Example 2:\n",
    "Input: nums = [4,1,2,1,2]\n",
    "Output: 4\n",
    "\n",
    "Example 3:\n",
    "Input: nums = [1]\n",
    "Output: 1\n",
    "\n",
    "Constraints:\n",
    "1 <= nums.length <= 3 * 10^4\n",
    "-3 * 10^4 <= nums[i] <= 3 * 10^4\n",
    "Each element in the array appears twice except for one element which appears only once."
   ]
  },
  {
   "cell_type": "code",
   "execution_count": 40,
   "id": "19d05aed-05df-4d5b-bd32-0387e2da0944",
   "metadata": {},
   "outputs": [
    {
     "name": "stdout",
     "output_type": "stream",
     "text": [
      "4\n",
      "2\n"
     ]
    }
   ],
   "source": [
    "class Solution(object):\n",
    "    def singleNumber(self, nums):\n",
    "        \"\"\"\n",
    "        :type nums: List[int]\n",
    "        :rtype: int\n",
    "        \"\"\"\n",
    "        ans = nums[0]\n",
    "        for i in range(1, len(nums)):\n",
    "            ans ^= nums[i]\n",
    "        return ans\n",
    "        \n",
    "print (Solution().singleNumber([4,1,2,1,2]))\n",
    "print (Solution().singleNumber([10,8,8,7,2,10,7]))"
   ]
  },
  {
   "cell_type": "code",
   "execution_count": null,
   "id": "5b3eef72-5f58-4fa5-8d8a-873569a5a456",
   "metadata": {},
   "outputs": [],
   "source": [
    "# C++ Implementation\n",
    "class Solution\n",
    "{\n",
    "    public:\n",
    "\n",
    "    int singleNumber(vector<int>& nums)\n",
    "    {\n",
    "        int ans = nums[0];\n",
    "\n",
    "        for (int i = 1; i < nums.size(); ++i)\n",
    "            ans ^= nums[i];\n",
    "\n",
    "        return ans;\n",
    "    }\n",
    "};"
   ]
  },
  {
   "cell_type": "code",
   "execution_count": null,
   "id": "d0b62418-ae17-4006-9a6f-271fd35cf9d4",
   "metadata": {},
   "outputs": [],
   "source": [
    "# Java Implementation\n",
    "// import java.util.*;\n",
    "\n",
    "class Solution {\n",
    "    public int singleNumber(int[] nums) {\n",
    "        int ans = nums[0];\n",
    "\n",
    "        for (int i = 1; i < nums.length; ++i)\n",
    "            ans ^= nums[i];\n",
    "\n",
    "        return ans;\n",
    "    }\n",
    "}"
   ]
  },
  {
   "cell_type": "code",
   "execution_count": null,
   "id": "e90aef31-2a9b-486f-97ed-f52e844e6d06",
   "metadata": {},
   "outputs": [],
   "source": [
    "LeetCode: 260. Single Number III (https://leetcode.com/problems/single-number-iii/)\n",
    "Given an integer array nums, in which exactly two elements appear only once and all the other elements appear exactly twice.\n",
    "Find the two elements that appear only once. You can return the answer in any order.\n",
    "\n",
    "You must write an algorithm that runs in linear runtime complexity and uses only constant extra space.\n",
    "\n",
    "Example 1:\n",
    "Input: nums = [1,2,1,3,2,5]\n",
    "Output: [3,5]\n",
    "Explanation:  [5, 3] is also a valid answer.\n",
    "\n",
    "Example 2:\n",
    "Input: nums = [-1,0]\n",
    "Output: [-1,0]\n",
    "\n",
    "Example 3:\n",
    "Input: nums = [0,1]\n",
    "Output: [1,0]\n",
    "\n",
    "Constraints:\n",
    "2 <= nums.length <= 3 * 10^4\n",
    "-2^31 <= nums[i] <= 2^31 - 1\n",
    "Each integer in nums will appear twice, only two integers will appear once."
   ]
  },
  {
   "cell_type": "code",
   "execution_count": 47,
   "id": "54c4074d-674e-4fe5-afc4-89bbdebeadb9",
   "metadata": {},
   "outputs": [
    {
     "name": "stdout",
     "output_type": "stream",
     "text": [
      "[3, 5]\n",
      "[6, 2]\n"
     ]
    }
   ],
   "source": [
    "class Solution(object):\n",
    "    def singleNumber(self, nums):\n",
    "        \"\"\"\n",
    "        :type nums: List[int]\n",
    "        :rtype: List[int]\n",
    "        \"\"\"\n",
    "        mask1 = 0\n",
    "        for i in range(len(nums)):\n",
    "            mask1 = mask1 ^ nums[i]\n",
    "        pos = 0\n",
    "        mask2 = mask1\n",
    "        while(mask2 & 1 != 1):\n",
    "            pos += 1\n",
    "            mask2 = mask2 >> 1\n",
    "        mask3 = 1 << pos\n",
    "        temp = 0\n",
    "        for i in range(len(nums)):\n",
    "            if (nums[i] & mask3):\n",
    "                temp = temp ^ nums[i]\n",
    "        result = [temp, mask1 ^ temp]\n",
    "        return result\n",
    "print (Solution().singleNumber([1,2,1,3,2,5]))\n",
    "print (Solution().singleNumber([8,7,10,6,10,2,5,8,5,7]))"
   ]
  },
  {
   "cell_type": "code",
   "execution_count": null,
   "id": "62117067-319d-41f3-a365-2427fe2ffb72",
   "metadata": {},
   "outputs": [],
   "source": [
    "# Java Implementation\n",
    "import java.util.*;\n",
    "class Solution {\n",
    "    public int[] singleNumber(int[] nums) {\n",
    "        int mask1 = 0;\n",
    "        for (int i = 0; i < nums.length; ++i) {\n",
    "            mask1 = mask1 ^ nums[i];\n",
    "        }\n",
    "        \n",
    "        int pos = 0;\n",
    "        int mask2 = mask1;\n",
    "        while ((mask2 & 1) != 1) {\n",
    "            pos += 1;\n",
    "            mask2 = mask2 >> 1;\n",
    "        }\n",
    "        \n",
    "        int mask3 = 1 << pos;\n",
    "        int temp = 0;\n",
    "        for (int i = 0; i < nums.length; ++i) {\n",
    "            if ((nums[i] & mask3) != 0) {\n",
    "                temp = temp ^ nums[i];\n",
    "            }\n",
    "        }\n",
    "        \n",
    "        int[] result = new int[]{temp, mask1 ^ temp};\n",
    "        return result;\n",
    "    }\n",
    "}\n",
    "\n",
    "public class Main {\n",
    "    public static void main(String[] args) {\n",
    "        Solution sol = new Solution();\n",
    "        \n",
    "        int[] result1 = sol.singleNumber(new int[]{1,2,1,3,2,5});\n",
    "        System.out.println(Arrays.toString(result1)); // output: [3, 5]\n",
    "        \n",
    "        int[] result2 = sol.singleNumber(new int[]{8,7,10,6,10,2,5,8,5,7});\n",
    "        System.out.println(Arrays.toString(result2)); // output: [2, 6]\n",
    "    }\n",
    "}"
   ]
  },
  {
   "cell_type": "code",
   "execution_count": null,
   "id": "83ed0139-e322-490a-8df4-8ea8fd3e77af",
   "metadata": {},
   "outputs": [],
   "source": [
    "# C++ Implementation\n",
    "class Solution\n",
    "{\n",
    "    public:\n",
    "    \n",
    "    vector<int> singleNumber(vector<int>& nums)\n",
    "    {\n",
    "        int x = nums[0];\n",
    "        for (int i = 1; i < nums.size(); ++i)\n",
    "            x ^= nums[i];\n",
    "        int temp = x;\n",
    "  \n",
    "        int pos = 0;\n",
    "        while ((temp & 1) == 0)\n",
    "        {\n",
    "            ++(pos);\n",
    "            temp >>= 1;\n",
    "        }\n",
    "        \n",
    "        int mask = (1 << pos);\n",
    "        \n",
    "        int ans1 = 0;\n",
    "        for (int i = 0; i < nums.size(); ++i)\n",
    "            if (nums[i] & mask)\n",
    "                ans1 ^= nums[i];\n",
    "        \n",
    "        return {ans1, (ans1 ^ x)};\n",
    "    }\n",
    "};"
   ]
  },
  {
   "cell_type": "code",
   "execution_count": null,
   "id": "17a7d115-d214-4f3c-baa3-a57170fb9dfc",
   "metadata": {},
   "outputs": [],
   "source": [
    "137. Single Number II (https://leetcode.com/problems/single-number-ii/)\n",
    "\n",
    "Given an integer array nums where every element appears three times except for one, which appears exactly once.\n",
    "Find the single element and return it.\n",
    "You must implement a solution with a linear runtime complexity and use only constant extra space.\n",
    "\n",
    "Example 1:\n",
    "Input: nums = [2,2,3,2]\n",
    "Output: 3\n",
    "\n",
    "Example 2:\n",
    "Input: nums = [0,1,0,1,0,1,99]\n",
    "Output: 99\n",
    "\n",
    "Constraints:\n",
    "1 <= nums.length <= 3 * 10^4\n",
    "-2^31 <= nums[i] <= 2^31 - 1\n",
    "Each element in nums appears exactly three times except for one element which appears once."
   ]
  },
  {
   "cell_type": "code",
   "execution_count": 59,
   "id": "b21f2a53-aad5-4fd5-9234-7891df59fccd",
   "metadata": {},
   "outputs": [
    {
     "name": "stdout",
     "output_type": "stream",
     "text": [
      "99\n",
      "7\n",
      "-7\n"
     ]
    }
   ],
   "source": [
    "import math\n",
    "class Solution(object):\n",
    "    def singleNumber(self, nums):\n",
    "        \"\"\"\n",
    "        :type nums: List[int]\n",
    "        :rtype: int\n",
    "        \"\"\"\n",
    "        max_num = max(map(abs, nums))\n",
    "        # print (max_num)\n",
    "        max_bits = int(math.log(max_num, 2)) + 2\n",
    "        # print (max_bits)\n",
    "        list1 = [0 for i in range(max_bits)]\n",
    "        # print (list1)\n",
    "        for no in nums:\n",
    "            pos = 0\n",
    "            while (no != 0 and pos < max_bits):\n",
    "                if (no & 1 != 0):\n",
    "                    list1[pos] += 1\n",
    "                no = no >> 1\n",
    "                pos = pos + 1\n",
    "        # print (list1)\n",
    "        for i in range(max_bits):\n",
    "            list1[i] %= 3\n",
    "        # print (list1)\n",
    "        pos = 0\n",
    "        result = 0\n",
    "        for i in range(max_bits):\n",
    "            if (list1[i] != 0):\n",
    "                result += (1 << pos)\n",
    "            pos += 1\n",
    "        # print (result)\n",
    "        if (list1[max_bits - 1] == 1):\n",
    "            result = -(2**max_bits - result)\n",
    "        return result\n",
    "print (Solution().singleNumber([0,1,0,1,0,1,99])) # 99\n",
    "print (Solution().singleNumber([10,5,7,5,10,5,10])) # 7\n",
    "print (Solution().singleNumber([-2,-3,-7,-1,-1,-3,-1,-2,-2,-3])) # -7"
   ]
  },
  {
   "cell_type": "code",
   "execution_count": null,
   "id": "06eae775-4bc2-4e72-8d9a-398cb833792c",
   "metadata": {},
   "outputs": [],
   "source": [
    "LeetCode: 78. Subsets (https://leetcode.com/problems/subsets/)\n",
    "\n",
    "Given an integer array nums of unique elements, return all possible subsets (the power set).\n",
    "The solution set must not contain duplicate subsets. Return the solution in any order.\n",
    "\n",
    "Example 1:\n",
    "Input: nums = [1,2,3]\n",
    "Output: [[],[1],[2],[1,2],[3],[1,3],[2,3],[1,2,3]]\n",
    "\n",
    "Example 2:\n",
    "Input: nums = [0]\n",
    "Output: [[],[0]]\n",
    "\n",
    "Constraints:\n",
    "1 <= nums.length <= 10\n",
    "-10 <= nums[i] <= 10\n",
    "All the numbers of nums are unique."
   ]
  },
  {
   "cell_type": "code",
   "execution_count": 61,
   "id": "efb2a5bd-db9e-4be6-8f2a-1a8c40cd0454",
   "metadata": {},
   "outputs": [
    {
     "name": "stdout",
     "output_type": "stream",
     "text": [
      "[[], [1], [2], [1, 2], [3], [1, 3], [2, 3], [1, 2, 3]]\n",
      "[[], [2], [4], [2, 4], [7], [2, 7], [4, 7], [2, 4, 7]]\n"
     ]
    }
   ],
   "source": [
    "class Solution(object):\n",
    "    def subsets(self, nums):\n",
    "        \"\"\"\n",
    "        :type nums: List[int]\n",
    "        :rtype: List[List[int]]\n",
    "        \"\"\"\n",
    "        nums_len = len(nums)\n",
    "        number = 0\n",
    "        result = []\n",
    "        while (number < (1 << nums_len)):\n",
    "            result1 = []\n",
    "            value = number\n",
    "            pos = 0\n",
    "            while (value != 0):\n",
    "                if (value & 1):\n",
    "                    result1.append(nums[pos])\n",
    "                value >>= 1\n",
    "                pos += 1\n",
    "            result.append(result1)\n",
    "            number += 1\n",
    "        return result\n",
    "        \n",
    "print (Solution().subsets([1,2,3]))\n",
    "print (Solution().subsets([2,4,7]))"
   ]
  },
  {
   "cell_type": "markdown",
   "id": "25bc4602-33cb-49cc-b44c-5343ae45c874",
   "metadata": {},
   "source": [
    "### **Principles of Inclusion and Exclusion**"
   ]
  },
  {
   "cell_type": "code",
   "execution_count": 7,
   "id": "1e487601-06d6-4a56-9a31-e6650e1b08f0",
   "metadata": {},
   "outputs": [],
   "source": [
    "def countSetBitsFast(n):\n",
    "    ans = 0\n",
    "    while (n):\n",
    "        # print (f\"Executing for n = {n}...\")\n",
    "        n = n & (n - 1)\n",
    "        ans += 1\n",
    "    return ans"
   ]
  },
  {
   "cell_type": "code",
   "execution_count": 12,
   "id": "17b1cffa-e3ca-48e5-b0c4-b5229aa9ebdd",
   "metadata": {},
   "outputs": [
    {
     "name": "stdin",
     "output_type": "stream",
     "text": [
      "Please enter an integer:  1000\n"
     ]
    },
    {
     "name": "stdout",
     "output_type": "stream",
     "text": [
      "500\n",
      "333\n",
      "166\n",
      "200\n",
      "100\n",
      "66\n",
      "33\n",
      "result = 734\n"
     ]
    }
   ],
   "source": [
    "# find the number of numbers between 1 to n which are divisible by any one\n",
    "# of the prime numbers less than 20. Where n is between 1 to 10^16.\n",
    "# Let the prime numbers are, prime = [2, 3, 5, 7, 11, 13, 17, 19] => total 8 prime numbers\n",
    "primes = [2, 3, 5]   # in total 3 prime numbers\n",
    "n_prime = len(primes)\n",
    "num = int(input(\"Please enter an integer: \"))\n",
    "# now find number of numbers between 1 to num divisible by prime numbers existing in prime[] list/array\n",
    "subsets = (1 << n_prime) - 1    # so 1 to (2^n - 1) number of subsets\n",
    "# print (subsets)\n",
    "result = 0\n",
    "ss = 1\n",
    "while (ss <= subsets):\n",
    "    setBits = countSetBitsFast(ss)\n",
    "    # print (ss, setBits)\n",
    "    lcm = 1\n",
    "    j = 0\n",
    "    while (j < n_prime):\n",
    "        if (ss & (1 << j)):\n",
    "            lcm = lcm * primes[j]\n",
    "        j += 1\n",
    "    # print (lcm)\n",
    "    if (setBits & 1):\n",
    "        result += (num // lcm)\n",
    "    else:\n",
    "        result -= (num // lcm)\n",
    "    print (num // lcm)\n",
    "    ss += 1\n",
    "print (\"result =\", result)"
   ]
  },
  {
   "cell_type": "code",
   "execution_count": null,
   "id": "771818c2-719c-471e-b6ab-98e18cecbfbe",
   "metadata": {},
   "outputs": [],
   "source": [
    "# C++ Implementation\n",
    "#include <iostream>\n",
    "#include <vector>\n",
    "\n",
    "int main()\n",
    "{\n",
    "    std::vector<int> divisors = {2, 3, 5};\n",
    "    int n = 1000;\n",
    "\n",
    "    int ans = 0;\n",
    "\n",
    "    for (int i = 1; i < static_cast<int>(1 << divisors.size()); ++i)\n",
    "    {\n",
    "        int divisor = 1;\n",
    "        int number_of_set_bits_in_i = 0;\n",
    "\n",
    "        int temp = i;\n",
    "\n",
    "        int j = 0;\n",
    "        while (temp)\n",
    "        {\n",
    "            if (temp & 1)\n",
    "            {\n",
    "                divisor *= divisors[j];\n",
    "                ++(number_of_set_bits_in_i);\n",
    "            }\n",
    "\n",
    "            ++j;\n",
    "            temp >>= 1;\n",
    "        }\n",
    "\n",
    "        if (number_of_set_bits_in_i & 1)\n",
    "            ans += (n / divisor);\n",
    "        else\n",
    "            ans -= (n / divisor);\n",
    "    }\n",
    "\n",
    "    std::cout << \"Number of divisors: \" << ans << '\\n';\n",
    "\n",
    "    return 0;\n",
    "}\n"
   ]
  },
  {
   "cell_type": "code",
   "execution_count": null,
   "id": "df02b6a0-3b3a-4581-80b2-dc0eaf565b0b",
   "metadata": {},
   "outputs": [],
   "source": [
    "LeetCode: 69. Sqrt(x) (https://leetcode.com/problems/sqrtx/)\n",
    "Given a non-negative integer x, return the square root of x rounded down to the nearest integer.\n",
    "The returned integer should be non-negative as well.\n",
    "\n",
    "You must not use any built-in exponent function or operator.\n",
    "\n",
    "For example, do not use pow(x, 0.5) in c++ or x ** 0.5 in python. \n",
    "\n",
    "Example 1:\n",
    "Input: x = 4\n",
    "Output: 2\n",
    "Explanation: The square root of 4 is 2, so we return 2.\n",
    "\n",
    "Example 2:\n",
    "Input: x = 8\n",
    "Output: 2\n",
    "Explanation: The square root of 8 is 2.82842..., and since we round it down to the nearest integer, 2 is returned.\n",
    "\n",
    "Constraints:\n",
    "0 <= x <= 2^31 - 1"
   ]
  },
  {
   "cell_type": "code",
   "execution_count": 14,
   "id": "ce2e382e-05f4-4d9a-8414-f6aa16df2cde",
   "metadata": {},
   "outputs": [
    {
     "name": "stdout",
     "output_type": "stream",
     "text": [
      "10\n",
      "70\n"
     ]
    }
   ],
   "source": [
    "class Solution(object):   #  1201 ms execution time on LC server\n",
    "    def mySqrt(self, x):\n",
    "        \"\"\"\n",
    "        :type x: int\n",
    "        :rtype: int\n",
    "        \"\"\"\n",
    "        if (x == 0):\n",
    "            return 0\n",
    "        n = 1\n",
    "        while (n * n < x):\n",
    "            n += 1\n",
    "        return (n - 1) if (n * n > x) else n\n",
    "    \n",
    "print (Solution().mySqrt(100))\n",
    "print (Solution().mySqrt(5000))"
   ]
  },
  {
   "cell_type": "code",
   "execution_count": 15,
   "id": "a6d85437-1225-4c1e-9388-069ccf63ff9e",
   "metadata": {},
   "outputs": [
    {
     "name": "stdout",
     "output_type": "stream",
     "text": [
      "10\n",
      "70\n"
     ]
    }
   ],
   "source": [
    "class Solution(object):   #  19 ms execution time on LC server\n",
    "    def mySqrt(self, x):\n",
    "        \"\"\"\n",
    "        :type x: int\n",
    "        :rtype: int\n",
    "        \"\"\"\n",
    "        low = 1\n",
    "        high = x + 1\n",
    "        ans = 0\n",
    "        while (low < high):\n",
    "            mid = (low + high) // 2\n",
    "            if (mid * mid <= x):\n",
    "                low = mid + 1\n",
    "                ans = mid\n",
    "            else:\n",
    "                high = mid\n",
    "        return ans\n",
    "        \n",
    "print (Solution().mySqrt(100))\n",
    "print (Solution().mySqrt(5000))"
   ]
  },
  {
   "cell_type": "code",
   "execution_count": null,
   "id": "d92db60a-7e6f-44e5-bcae-2a16573795e3",
   "metadata": {},
   "outputs": [],
   "source": [
    "# C++ Implementation\n",
    "class Solution\n",
    "{\n",
    "    public:\n",
    "    \n",
    "    int mySqrt(int x)\n",
    "    {\n",
    "        if (x == 0)\n",
    "            return 0;\n",
    "        \n",
    "        long long lo = 1, hi = x;\n",
    "        \n",
    "        while (lo < hi)\n",
    "        {\n",
    "            long long mid = (lo + ((hi - lo) / 2));\n",
    "            \n",
    "            if ((mid * mid) < x)\n",
    "                lo = (mid + 1);\n",
    "            else\n",
    "                hi = mid;\n",
    "        }\n",
    "        \n",
    "        if ((lo * lo) == x)\n",
    "            return lo;\n",
    "        else\n",
    "            return (lo - 1);\n",
    "    }\n",
    "};"
   ]
  },
  {
   "cell_type": "code",
   "execution_count": null,
   "id": "fbc157fc-c108-4e8a-bfc7-51f61da86d67",
   "metadata": {},
   "outputs": [],
   "source": [
    "LeetCode: 1. Two Sum (https://leetcode.com/problems/two-sum/)\n",
    "\n",
    "Given an array of integers nums and an integer target, return indices of the two numbers such that they add up to target.\n",
    "\n",
    "You may assume that each input would have exactly one solution, and you may not use the same element twice.\n",
    "\n",
    "You can return the answer in any order. \n",
    "\n",
    "Example 1:\n",
    "Input: nums = [2,7,11,15], target = 9\n",
    "Output: [0,1]\n",
    "Explanation: Because nums[0] + nums[1] == 9, we return [0, 1].\n",
    "\n",
    "Example 2:\n",
    "Input: nums = [3,2,4], target = 6\n",
    "Output: [1,2]\n",
    "\n",
    "Example 3:\n",
    "Input: nums = [3,3], target = 6\n",
    "Output: [0,1]\n",
    "\n",
    "Constraints:\n",
    "2 <= nums.length <= 10^4\n",
    "-10^9 <= nums[i] <= 10^9\n",
    "-10^9 <= target <= 10^9\n",
    "Only one valid answer exists.\n",
    "\n",
    "Follow-up: Can you come up with an algorithm that is less than O(n2) time complexity?"
   ]
  },
  {
   "cell_type": "code",
   "execution_count": 17,
   "id": "30b02dba-b80a-4502-9ebe-e63455625864",
   "metadata": {},
   "outputs": [
    {
     "name": "stdout",
     "output_type": "stream",
     "text": [
      "(0, 1)\n",
      "(1, 2)\n"
     ]
    }
   ],
   "source": [
    "class Solution(object):     # 2229 ms execution time on LC server, time complexity O(n^2)\n",
    "    def twoSum(self, nums, target):\n",
    "        \"\"\"\n",
    "        :type nums: List[int]\n",
    "        :type target: int\n",
    "        :rtype: List[int]\n",
    "        \"\"\"\n",
    "        numsize = len(nums)\n",
    "        for i in range(0, numsize - 1):\n",
    "            for j in range(i + 1, numsize):\n",
    "                if (nums[i] + nums[j] == target):\n",
    "                    return (i, j)\n",
    "        \n",
    "print (Solution().twoSum([2,7,11,15], 9))  # (0, 1)\n",
    "print (Solution().twoSum([3,2,4], 6))      # (1, 2)"
   ]
  },
  {
   "cell_type": "code",
   "execution_count": 18,
   "id": "7f090a6f-f408-438a-a764-09972f46f8bc",
   "metadata": {},
   "outputs": [
    {
     "name": "stdout",
     "output_type": "stream",
     "text": [
      "(0, 1)\n",
      "(1, 2)\n"
     ]
    }
   ],
   "source": [
    "class Solution(object):     # 656 ms execution time on LC server, time complexity O(n^2)\n",
    "    def twoSum(self, nums, target):\n",
    "        \"\"\"\n",
    "        :type nums: List[int]\n",
    "        :type target: int\n",
    "        :rtype: List[int]\n",
    "        \"\"\"\n",
    "        for i in range(len(nums)):\n",
    "            element = nums[i]\n",
    "            data = target - element\n",
    "            if (data in nums):\n",
    "                location = nums.index(data)   # using the library function index()\n",
    "                if (i != location):\n",
    "                    return (i, location)\n",
    "                    \n",
    "print (Solution().twoSum([2,7,11,15], 9))  # (0, 1)\n",
    "print (Solution().twoSum([3,2,4], 6))      # (1, 2)"
   ]
  },
  {
   "cell_type": "code",
   "execution_count": 21,
   "id": "516ee9d7-03b1-44f0-ba18-3323faaf8495",
   "metadata": {},
   "outputs": [
    {
     "name": "stdout",
     "output_type": "stream",
     "text": [
      "7 {7: 0}\n",
      "8 {7: 0, 8: 1}\n",
      "9 {7: 0, 8: 1, 9: 2}\n",
      "1 {7: 0, 8: 1, 9: 2, 1: 3}\n",
      "6 {7: 0, 8: 1, 9: 2, 1: 3, 6: 4}\n",
      "3 {7: 0, 8: 1, 9: 2, 1: 3, 6: 4, 3: 5}\n",
      "2 {7: 0, 8: 1, 9: 2, 1: 3, 6: 4, 3: 5, 2: 6}\n",
      "(6, 7)\n"
     ]
    }
   ],
   "source": [
    "class Solution(object):     # 37 ms execution time on LC server, time complexity O(n)\n",
    "    def twoSum(self, nums, target):\n",
    "        \"\"\"\n",
    "        :type nums: List[int]\n",
    "        :type target: int\n",
    "        :rtype: List[int]\n",
    "        \"\"\"\n",
    "        result = {}   # empty dictionary\n",
    "        for i in range(len(nums)):\n",
    "            remaining = target - nums[i]\n",
    "            if (remaining in result):\n",
    "                return (result[remaining], i)\n",
    "            else:\n",
    "                result[nums[i]] = i\n",
    "            print (nums[i], result)\n",
    "                    \n",
    "# print (Solution().twoSum([2,7,11,15], 9))  # (0, 1)\n",
    "# print (Solution().twoSum([3,2,4], 6))      # (1, 2)\n",
    "print (Solution().twoSum([7,8,9,1,6,3,2,4], 6))      # (6, 7)"
   ]
  },
  {
   "cell_type": "code",
   "execution_count": null,
   "id": "54a9e5b5-8f16-4b05-9ccc-d0aa5a159fc4",
   "metadata": {},
   "outputs": [],
   "source": [
    "# C++ Implementation\n",
    "class Solution                # 12 ms execution time on LC server, time complexity O(n)\n",
    "{\n",
    "    public:\n",
    "    vector<int> twoSum(vector<int>& nums, int target)\n",
    "    {\n",
    "        unordered_map<int, int> num_map;\n",
    "\n",
    "        for (int i = 0; i < nums.size(); ++i)\n",
    "        {\n",
    "            auto it = num_map.find(target - nums[i]);\n",
    "            if (it != num_map.end())\n",
    "                return {i, it->second};\n",
    "\n",
    "            num_map[nums[i]] = i;\n",
    "        }\n",
    "\n",
    "        return {};\n",
    "    }\n",
    "};"
   ]
  },
  {
   "cell_type": "code",
   "execution_count": null,
   "id": "e5f1350f-4bcf-42c4-8606-daec0ebb00fb",
   "metadata": {},
   "outputs": [],
   "source": [
    "Home Assignment:\n",
    "----------------\n",
    "Find out all possible such numbers which when multiplied by 3 then in the result (product) the first digit of the number will\n",
    "come at the last and other digits will appear in the same sequence in the result.\n",
    "\n",
    "As example: if the number is xy......z\n",
    "Then        xy......z\n",
    "                  x 3\n",
    "            ---------\n",
    "            y......zx\n"
   ]
  },
  {
   "cell_type": "code",
   "execution_count": null,
   "id": "5b93f580-a626-43ef-b89a-762412f53bf1",
   "metadata": {},
   "outputs": [],
   "source": []
  },
  {
   "cell_type": "code",
   "execution_count": null,
   "id": "b99b1dc4-3b55-4de2-9bdd-6cc7cab46dcf",
   "metadata": {},
   "outputs": [],
   "source": []
  },
  {
   "cell_type": "code",
   "execution_count": null,
   "id": "6db3d522-998a-43b5-9873-e21748f1ff0e",
   "metadata": {},
   "outputs": [],
   "source": []
  }
 ],
 "metadata": {
  "kernelspec": {
   "display_name": "Python 3",
   "language": "python",
   "name": "python3"
  },
  "language_info": {
   "codemirror_mode": {
    "name": "ipython",
    "version": 3
   },
   "file_extension": ".py",
   "mimetype": "text/x-python",
   "name": "python",
   "nbconvert_exporter": "python",
   "pygments_lexer": "ipython3",
   "version": "3.8.8"
  }
 },
 "nbformat": 4,
 "nbformat_minor": 5
}
