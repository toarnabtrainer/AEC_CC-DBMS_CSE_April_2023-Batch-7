{
 "cells": [
  {
   "cell_type": "code",
   "execution_count": null,
   "id": "5af65a11-3535-4b2f-87ae-8b813bd16621",
   "metadata": {},
   "outputs": [],
   "source": [
    "Find out all possible 3-digit Triode Numbers. Let x be a Triode number, than x, 2x and 3x will have all distinct digits.\n",
    "As example -\n",
    "  x = 219\n",
    "2*x = 438\n",
    "3*x = 657\n",
    "So 219 is one of the Triode Numbers.\n",
    "\n",
    "Do it in any programming language."
   ]
  },
  {
   "cell_type": "code",
   "execution_count": null,
   "id": "b9c3723a-3d8e-4444-aff6-7597f6ab20e8",
   "metadata": {},
   "outputs": [],
   "source": [
    "for x in range(102, 498):\n",
    "    digits = [0 for i in range(10)]\n",
    "    flag = 1\n",
    "    for i in range(1, 4):\n",
    "        num = i * x\n",
    "        while (num != 0):\n",
    "            last_digit = num % 10\n",
    "            if (digits[last_digit] != 0):\n",
    "                flag = 0\n",
    "                break\n",
    "            else:\n",
    "                digits[last_digit] = 1\n",
    "                num = num // 10\n",
    "        if (flag == 0): break\n",
    "    if (flag == 1): print (x, 2 *x , 3 * x)\n",
    "print (\"End of the program...\")"
   ]
  },
  {
   "cell_type": "code",
   "execution_count": null,
   "id": "9611746c-de41-4089-9bf3-e380fbd2749f",
   "metadata": {},
   "outputs": [],
   "source": [
    "# C++ Implementation\n",
    "#include <iostream>\n",
    "#include <vector>\n",
    "int main() {\n",
    "    std::cout << \"Triode Numbers :-\\n\";\n",
    "\n",
    "    for (int i = 102; i <= 498; ++i) {\n",
    "        bool is_triode = true;\n",
    "        std::vector<bool> digit_is_present(10, false);\n",
    "        for (int j = i; j <= (3 * i); j += i) {\n",
    "            int x = j;\n",
    "            while (x > 0) {\n",
    "                if (digit_is_present[x % 10]) {\n",
    "                    is_triode = false;\n",
    "                    goto end_of_current_iteration;\n",
    "                }\n",
    "                digit_is_present[x % 10] = true;\n",
    "                x /= 10;\n",
    "            }\n",
    "        }\n",
    "        if (is_triode)\n",
    "            std::cout << i << '\\n';\n",
    "        end_of_current_iteration: ;\n",
    "    }\n",
    "    return 0;\n",
    "}"
   ]
  },
  {
   "cell_type": "code",
   "execution_count": null,
   "id": "ec1cab2b-af86-4e59-91e6-a7b171ae2d2b",
   "metadata": {},
   "outputs": [],
   "source": [
    "Programming Assignment - 1 (10 Minutes)\n",
    "Print the following pattern for user given ODD value for n.\n",
    "For n = 11\n",
    "\n",
    "***********\n",
    ".*********\n",
    "..*******\n",
    "...*****\n",
    "....***\n",
    ".....*\n",
    "....***\n",
    "...*****\n",
    "..*******\n",
    ".*********\n",
    "***********"
   ]
  },
  {
   "cell_type": "code",
   "execution_count": null,
   "id": "1d936c96-e18b-4545-85f4-844b1c162cb6",
   "metadata": {},
   "outputs": [],
   "source": [
    "# C++ Implementations\n",
    "#include <iostream>\n",
    "#include <algorithm>\n",
    "int main() {\n",
    "    int n;\n",
    "    std::cout << \"Enter an odd positive integer: \";\n",
    "    std::cin >> n;\n",
    "    for (int i = 0; i < n; ++i) {\n",
    "        for (int j = 0; j < n; ++j) {\n",
    "            int min_i = std::min(i, (n - i - 1));\n",
    "\n",
    "            if ((j >= min_i) && (j < (n - min_i)))\n",
    "                std::cout << '*';\n",
    "            else if (j < i)\n",
    "                std::cout << '.';\n",
    "        }\n",
    "        std::cout << '\\n';\n",
    "    }\n",
    "    return 0;\n",
    "}"
   ]
  },
  {
   "cell_type": "code",
   "execution_count": null,
   "id": "b6025483-fb7f-4498-a240-b2cbc209bcbe",
   "metadata": {},
   "outputs": [],
   "source": [
    "# Java Implementation\n",
    " import java.util.Scanner;\n",
    "     public class Main {\n",
    "        public static void main(String[] args) {\n",
    "            Scanner input = new Scanner(System.in);\n",
    "            System.out.print(\"enter an odd value \");\n",
    "            int n = input.nextInt();\n",
    "            for (int i = 0; i < n; i++) {\n",
    "                for (int j = 0; j < n; j++) {\n",
    "                    if (i <= n/2) {\n",
    "                        if (j < i || j >= n-i) {\n",
    "                            System.out.print(\".\");\n",
    "                        } else {\n",
    "                            System.out.print(\"*\");\n",
    "                        }\n",
    "                    } else {\n",
    "                        if (j < n-i-1 || j >= i+1) {\n",
    "                            System.out.print(\".\");\n",
    "                        } else {\n",
    "                            System.out.print(\"*\");\n",
    "                        }\n",
    "                    }\n",
    "                }\n",
    "                System.out.println();\n",
    "            }\n",
    "            \n",
    "        }\n",
    "    }"
   ]
  },
  {
   "cell_type": "code",
   "execution_count": 3,
   "id": "f0acca88-4935-4cf1-a00c-fa8de5db92bf",
   "metadata": {},
   "outputs": [
    {
     "name": "stdout",
     "output_type": "stream",
     "text": [
      "Hello Hello Hello \n",
      "Welcome Welcome Welcome Welcome Welcome \n"
     ]
    }
   ],
   "source": [
    "print (\"Hello \" * 3)\n",
    "print (\"Welcome \" * 5)"
   ]
  },
  {
   "cell_type": "code",
   "execution_count": null,
   "id": "3c11d0d2-f03f-467c-b06b-4020b798ca29",
   "metadata": {},
   "outputs": [],
   "source": [
    "Print the following pattern for user given ODD value for n.\n",
    "For n = 11     m = (n + 1) // 2 = 6\n",
    "\n",
    "                 i   .   *\n",
    "              ---------------\n",
    "***********      1   0  11       (i, m, n)\n",
    ".*********       2   1   9  . => (i - 1)\n",
    "..*******        3   2   7\n",
    "...*****         4   3   5  * => 2 * (m - i) + 1\n",
    "....***          5   4   3\n",
    ".....*        ___6___5___1___\n",
    "....***          7   4   3\n",
    "...*****         8   3   5  . => (n - i)\n",
    "..*******        9   2   7\n",
    ".*********      10   1   9  * => 2 * (i - m) + 1\n",
    "***********     11   0  11\n",
    "              ---------------\n",
    "              Tracing Table"
   ]
  },
  {
   "cell_type": "code",
   "execution_count": 7,
   "id": "31b89fa1-2923-462b-8113-69864224c50d",
   "metadata": {},
   "outputs": [
    {
     "name": "stdin",
     "output_type": "stream",
     "text": [
      "Please enter ODD number of layers:  12\n",
      "Please enter ODD number of layers:  18\n",
      "Please enter ODD number of layers:  20\n",
      "Please enter ODD number of layers:  16\n",
      "Please enter ODD number of layers:  11\n"
     ]
    },
    {
     "name": "stdout",
     "output_type": "stream",
     "text": [
      "***********\n",
      ".*********\n",
      "..*******\n",
      "...*****\n",
      "....***\n",
      ".....*\n",
      "....***\n",
      "...*****\n",
      "..*******\n",
      ".*********\n",
      "***********\n",
      "End of the program...\n"
     ]
    }
   ],
   "source": [
    "while (True):\n",
    "    n = int(input(\"Please enter ODD number of layers: \"))\n",
    "    if (n % 2 == 1): break\n",
    "m = (n + 1) // 2\n",
    "for i in range(1, n + 1):\n",
    "    if (i > m): b = (n - i); s = 2 * (i - m) + 1\n",
    "    else: b = (i - 1); s = 2 * (m - i) + 1\n",
    "    print (\".\" * b + \"*\" * s)\n",
    "print (\"End of the program...\")"
   ]
  },
  {
   "cell_type": "code",
   "execution_count": null,
   "id": "4aebeabd-09f2-4f9a-a42e-50d064ba7897",
   "metadata": {},
   "outputs": [],
   "source": [
    "Class Assignment:\n",
    "Find the sum of first n terms of the following series.\n",
    "index ->1   2   3   4   5    6   7   8   9   10   11  12  \n",
    "total = 1 + 2 + 3 + 4 + 10 + 5 + 6 + 7 + 8 + 26 + 9 + 10 + ... n terms\n",
    "\n",
    "Also find the 99-th term of the series. (Answer 80)\n",
    "for n = 5, total = 20\n",
    "for n = 10, total = 72\n",
    "for n = 11, total = 81"
   ]
  },
  {
   "cell_type": "code",
   "execution_count": null,
   "id": "fb20d782-ee89-4739-b4fe-6552605be2ed",
   "metadata": {},
   "outputs": [],
   "source": [
    "# C++ Implementation\n",
    "#include <iostream>\n",
    "int main() {\n",
    "    int n;\n",
    "    std::cout << \"Enter the number of terms: \";\n",
    "    std::cin >> n;\n",
    "\n",
    "    int groups = (n / 5);\n",
    "    int max = (4 * groups);\n",
    "    int ans = (max * (max + 1));\n",
    "\n",
    "    int remaining = (n - (groups * 5));\n",
    "    ans += ((remaining * ((2 * (max + 1)) + remaining - 1)) / 2);\n",
    "\n",
    "    std::cout << ans << '\\n';\n",
    "\n",
    "    return 0;\n",
    "}"
   ]
  },
  {
   "cell_type": "code",
   "execution_count": 11,
   "id": "0014d866-bfb3-45f8-a56c-796975e560bc",
   "metadata": {},
   "outputs": [
    {
     "name": "stdin",
     "output_type": "stream",
     "text": [
      "Please enter the number of terms:  11\n"
     ]
    },
    {
     "name": "stdout",
     "output_type": "stream",
     "text": [
      "Adding term = 1\n",
      "Adding term = 2\n",
      "Adding term = 3\n",
      "Adding term = 4\n",
      "Adding temporary sum = 10\n",
      "Adding term = 5\n",
      "Adding term = 6\n",
      "Adding term = 7\n",
      "Adding term = 8\n",
      "Adding temporary sum = 26\n",
      "Adding term = 9\n",
      "So the final total of the series is 81\n",
      "End of the program...\n"
     ]
    }
   ],
   "source": [
    "# Find the sum of first n terms of the following series.\n",
    "# index -> 1   2   3   4   5    6   7   8   9   10   11  12  \n",
    "# total  = 1 + 2 + 3 + 4 + 10 + 5 + 6 + 7 + 8 + 26 + 9 + 10 + ... n terms\n",
    "n = int(input(\"Please enter the number of terms: \"))\n",
    "fsum = tsum = 0\n",
    "term = 1\n",
    "for i in range(1, n + 1):\n",
    "    if (i % 5 == 0):\n",
    "        fsum = fsum + tsum\n",
    "        print (\"Adding temporary sum =\", tsum)\n",
    "        tsum = 0\n",
    "    else:\n",
    "        fsum = fsum + term\n",
    "        tsum = tsum + term\n",
    "        print (\"Adding term =\", term)\n",
    "        term = term + 1\n",
    "print (\"So the final total of the series is\", fsum)\n",
    "print (\"End of the program...\")"
   ]
  },
  {
   "cell_type": "code",
   "execution_count": null,
   "id": "809f46bc-db2f-44eb-a908-22f34b67246f",
   "metadata": {},
   "outputs": [],
   "source": [
    "# C++ Implementation\n",
    "#include <iostream>\n",
    "using namespace std;\n",
    "\n",
    "int main() {\n",
    "    int n, fsum, tsum, term, i;\n",
    "    cout << \"Please enter the number of terms: \";\n",
    "    cin >> n;\n",
    "    \n",
    "    fsum = 0; tsum = 0; term = 1;\n",
    "    for (i = 1; i <= n; i++) {\n",
    "        if (i % 5 == 0) {\n",
    "            fsum = fsum + tsum;\n",
    "            cout << \"Adding temporary sum = \" << tsum << endl;\n",
    "            tsum = 0;\n",
    "        } else {\n",
    "            fsum = fsum + term;\n",
    "            tsum = tsum + term;\n",
    "            cout << \"Adding term = \" << term << endl;\n",
    "            term = term + 1;\n",
    "        }\n",
    "    }\n",
    "    cout << \"So the final total of the series is \" << fsum << endl;\n",
    "    cout << \"End of the program...\" << endl;\n",
    "}"
   ]
  },
  {
   "cell_type": "code",
   "execution_count": null,
   "id": "fdee0634-f024-465b-b859-b80585db5f8d",
   "metadata": {},
   "outputs": [],
   "source": []
  }
 ],
 "metadata": {
  "kernelspec": {
   "display_name": "Python 3",
   "language": "python",
   "name": "python3"
  },
  "language_info": {
   "codemirror_mode": {
    "name": "ipython",
    "version": 3
   },
   "file_extension": ".py",
   "mimetype": "text/x-python",
   "name": "python",
   "nbconvert_exporter": "python",
   "pygments_lexer": "ipython3",
   "version": "3.8.8"
  }
 },
 "nbformat": 4,
 "nbformat_minor": 5
}
